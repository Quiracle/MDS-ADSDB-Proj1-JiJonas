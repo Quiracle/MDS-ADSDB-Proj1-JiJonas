{
 "cells": [
  {
   "cell_type": "code",
   "execution_count": 6,
   "metadata": {},
   "outputs": [],
   "source": [
    "# %pip install duckdb"
   ]
  },
  {
   "cell_type": "code",
   "execution_count": 7,
   "metadata": {},
   "outputs": [],
   "source": [
    "DB_PATH = \"../formatted_zone/formatted.db\""
   ]
  },
  {
   "cell_type": "code",
   "execution_count": 8,
   "metadata": {},
   "outputs": [],
   "source": [
    "from os import listdir\n",
    "from os.path import isfile, join, isdir\n",
    "\n",
    "def getAllFilesRecursive(root):\n",
    "    root = os.path.normpath(root)\n",
    "    \n",
    "    files = [join(root, f) for f in os.listdir(root) if isfile(join(root, f))]\n",
    "    dirs = [d for d in os.listdir(root) if isdir(join(root, d))]\n",
    "\n",
    "    for d in dirs:\n",
    "        files_in_d = getAllFilesRecursive(join(root, d))\n",
    "        if files_in_d:\n",
    "            files.extend(files_in_d)\n",
    "\n",
    "    return files"
   ]
  },
  {
   "cell_type": "code",
   "execution_count": 9,
   "metadata": {},
   "outputs": [],
   "source": [
    "# import duckdb\n",
    "# import os\n",
    "# file = '../persistent_landing/fotocasa/2024/2024_09_27_fotocasa.json'\n",
    "# with duckdb.connect(DB_PATH) as con:\n",
    "#     con.sql(f\"CREATE TABLE IF NOT EXISTS {os.path.basename(file).split('.')[0]} AS FROM read_json('{file}');\")"
   ]
  },
  {
   "cell_type": "code",
   "execution_count": 10,
   "metadata": {},
   "outputs": [
    {
     "name": "stdout",
     "output_type": "stream",
     "text": [
      "../persistent_landing/idealista/2020/2020_01_02_idealista.json\n"
     ]
    },
    {
     "ename": "ParserException",
     "evalue": "Parser Error: syntax error at or near \"NOT\"",
     "output_type": "error",
     "traceback": [
      "\u001b[1;31m---------------------------------------------------------------------------\u001b[0m",
      "\u001b[1;31mParserException\u001b[0m                           Traceback (most recent call last)",
      "Cell \u001b[1;32mIn[10], line 6\u001b[0m\n\u001b[0;32m      3\u001b[0m SOURCE \u001b[38;5;241m=\u001b[39m \u001b[38;5;124m'\u001b[39m\u001b[38;5;124m../persistent_landing/\u001b[39m\u001b[38;5;124m'\u001b[39m\n\u001b[0;32m      5\u001b[0m files \u001b[38;5;241m=\u001b[39m getAllFilesRecursive(SOURCE)\n\u001b[1;32m----> 6\u001b[0m \u001b[38;5;28;43;01mwith\u001b[39;49;00m\u001b[43m \u001b[49m\u001b[43mduckdb\u001b[49m\u001b[38;5;241;43m.\u001b[39;49m\u001b[43mconnect\u001b[49m\u001b[43m(\u001b[49m\u001b[43mDB_PATH\u001b[49m\u001b[43m)\u001b[49m\u001b[43m \u001b[49m\u001b[38;5;28;43;01mas\u001b[39;49;00m\u001b[43m \u001b[49m\u001b[43mcon\u001b[49m\u001b[43m:\u001b[49m\n\u001b[0;32m      7\u001b[0m \u001b[43m    \u001b[49m\u001b[43mcon\u001b[49m\u001b[38;5;241;43m.\u001b[39;49m\u001b[43msql\u001b[49m\u001b[43m(\u001b[49m\u001b[38;5;124;43m\"\"\"\u001b[39;49m\n\u001b[0;32m      8\u001b[0m \u001b[38;5;124;43m        INSTALL spatial;\u001b[39;49m\n\u001b[0;32m      9\u001b[0m \u001b[38;5;124;43m        LOAD spatial;\u001b[39;49m\n\u001b[0;32m     10\u001b[0m \u001b[38;5;124;43m        \u001b[39;49m\u001b[38;5;124;43m\"\"\"\u001b[39;49m\u001b[43m)\u001b[49m\n\u001b[0;32m     11\u001b[0m \u001b[43m    \u001b[49m\u001b[38;5;28;43;01mfor\u001b[39;49;00m\u001b[43m \u001b[49m\u001b[43mfile\u001b[49m\u001b[43m \u001b[49m\u001b[38;5;129;43;01min\u001b[39;49;00m\u001b[43m \u001b[49m\u001b[43mfiles\u001b[49m\u001b[43m:\u001b[49m\n",
      "Cell \u001b[1;32mIn[10], line 20\u001b[0m\n\u001b[0;32m     18\u001b[0m con\u001b[38;5;241m.\u001b[39msql(\u001b[38;5;124mf\u001b[39m\u001b[38;5;124m\"\u001b[39m\u001b[38;5;124mCREATE TABLE IF NOT EXISTS \u001b[39m\u001b[38;5;132;01m{\u001b[39;00m\u001b[38;5;124m'\u001b[39m\u001b[38;5;124m_\u001b[39m\u001b[38;5;124m'\u001b[39m\u001b[38;5;241m.\u001b[39mjoin(filename[\u001b[38;5;241m0\u001b[39m]\u001b[38;5;241m.\u001b[39msplit(\u001b[38;5;124m'\u001b[39m\u001b[38;5;124m_\u001b[39m\u001b[38;5;124m'\u001b[39m)[::\u001b[38;5;241m-\u001b[39m\u001b[38;5;241m1\u001b[39m])\u001b[38;5;132;01m}\u001b[39;00m\u001b[38;5;124m AS FROM \u001b[39m\u001b[38;5;132;01m{\u001b[39;00mread_function\u001b[38;5;132;01m}\u001b[39;00m\u001b[38;5;124m(\u001b[39m\u001b[38;5;124m'\u001b[39m\u001b[38;5;132;01m{\u001b[39;00mfile\u001b[38;5;132;01m}\u001b[39;00m\u001b[38;5;124m'\u001b[39m\u001b[38;5;124m);\u001b[39m\u001b[38;5;124m\"\u001b[39m)\n\u001b[0;32m     19\u001b[0m \u001b[38;5;28;01mif\u001b[39;00m filename[\u001b[38;5;241m0\u001b[39m]\u001b[38;5;241m.\u001b[39msplit(\u001b[38;5;124m'\u001b[39m\u001b[38;5;124m_\u001b[39m\u001b[38;5;124m'\u001b[39m)[\u001b[38;5;241m0\u001b[39m]\u001b[38;5;241m.\u001b[39misdigit():\n\u001b[1;32m---> 20\u001b[0m     \u001b[43mcon\u001b[49m\u001b[38;5;241;43m.\u001b[39;49m\u001b[43msql\u001b[49m\u001b[43m(\u001b[49m\u001b[38;5;124;43mf\u001b[39;49m\u001b[38;5;124;43m\"\u001b[39;49m\u001b[38;5;124;43mALTER TABLE IF NOT EXISTS \u001b[39;49m\u001b[38;5;132;43;01m{\u001b[39;49;00m\u001b[38;5;124;43m'\u001b[39;49m\u001b[38;5;124;43m_\u001b[39;49m\u001b[38;5;124;43m'\u001b[39;49m\u001b[38;5;241;43m.\u001b[39;49m\u001b[43mjoin\u001b[49m\u001b[43m(\u001b[49m\u001b[43mfilename\u001b[49m\u001b[43m[\u001b[49m\u001b[38;5;241;43m0\u001b[39;49m\u001b[43m]\u001b[49m\u001b[38;5;241;43m.\u001b[39;49m\u001b[43msplit\u001b[49m\u001b[43m(\u001b[49m\u001b[38;5;124;43m'\u001b[39;49m\u001b[38;5;124;43m_\u001b[39;49m\u001b[38;5;124;43m'\u001b[39;49m\u001b[43m)\u001b[49m\u001b[43m[\u001b[49m\u001b[43m:\u001b[49m\u001b[43m:\u001b[49m\u001b[38;5;241;43m-\u001b[39;49m\u001b[38;5;241;43m1\u001b[39;49m\u001b[43m]\u001b[49m\u001b[43m)\u001b[49m\u001b[38;5;132;43;01m}\u001b[39;49;00m\u001b[38;5;124;43m ADD COLUMN timestamp VARCHAR DEFAULT \u001b[39;49m\u001b[38;5;124;43m'\u001b[39;49m\u001b[38;5;132;43;01m{\u001b[39;49;00m\u001b[38;5;124;43m'\u001b[39;49m\u001b[38;5;124;43m-\u001b[39;49m\u001b[38;5;124;43m'\u001b[39;49m\u001b[38;5;241;43m.\u001b[39;49m\u001b[43mjoin\u001b[49m\u001b[43m(\u001b[49m\u001b[43mfilename\u001b[49m\u001b[43m[\u001b[49m\u001b[38;5;241;43m0\u001b[39;49m\u001b[43m]\u001b[49m\u001b[38;5;241;43m.\u001b[39;49m\u001b[43msplit\u001b[49m\u001b[43m(\u001b[49m\u001b[38;5;124;43m'\u001b[39;49m\u001b[38;5;124;43m_\u001b[39;49m\u001b[38;5;124;43m'\u001b[39;49m\u001b[43m)\u001b[49m\u001b[43m[\u001b[49m\u001b[43m:\u001b[49m\u001b[38;5;241;43m-\u001b[39;49m\u001b[38;5;241;43m1\u001b[39;49m\u001b[43m]\u001b[49m\u001b[43m)\u001b[49m\u001b[38;5;132;43;01m}\u001b[39;49;00m\u001b[38;5;124;43m'\u001b[39;49m\u001b[38;5;124;43m;\u001b[39;49m\u001b[38;5;124;43m\"\u001b[39;49m\u001b[43m)\u001b[49m\n\u001b[0;32m     21\u001b[0m     \u001b[38;5;28mprint\u001b[39m(\u001b[38;5;124m'\u001b[39m\u001b[38;5;124m-\u001b[39m\u001b[38;5;124m'\u001b[39m\u001b[38;5;241m.\u001b[39mjoin(filename[\u001b[38;5;241m0\u001b[39m]\u001b[38;5;241m.\u001b[39msplit(\u001b[38;5;124m'\u001b[39m\u001b[38;5;124m_\u001b[39m\u001b[38;5;124m'\u001b[39m)[:\u001b[38;5;241m-\u001b[39m\u001b[38;5;241m1\u001b[39m]))\n",
      "\u001b[1;31mParserException\u001b[0m: Parser Error: syntax error at or near \"NOT\""
     ]
    }
   ],
   "source": [
    "import duckdb\n",
    "import os\n",
    "SOURCE = '../persistent_landing/'\n",
    "\n",
    "files = getAllFilesRecursive(SOURCE)\n",
    "with duckdb.connect(DB_PATH) as con:\n",
    "    con.sql(\"\"\"\n",
    "        INSTALL spatial;\n",
    "        LOAD spatial;\n",
    "        \"\"\")\n",
    "    for file in files:\n",
    "        file = file.replace(\"\\\\\", \"/\")\n",
    "        filename = os.path.basename(file).split('.')\n",
    "        print(file)\n",
    "        read_function = f'read_{filename[-1]}'\n",
    "        if filename[-1] == 'xlsx':\n",
    "            read_function = 'st_read'\n",
    "        con.sql(f\"CREATE TABLE IF NOT EXISTS {'_'.join(filename[0].split('_')[::-1])} AS FROM {read_function}('{file}');\")\n",
    "        if filename[0].split('_')[0].isdigit():\n",
    "            con.sql(f\"ALTER TABLE {'_'.join(filename[0].split('_')[::-1])} ADD COLUMN IF NOT EXISTS timestamp VARCHAR DEFAULT '{'-'.join(filename[0].split('_')[:-1])}';\")\n",
    "            print('-'.join(filename[0].split('_')[:-1]))"
   ]
  },
  {
   "cell_type": "code",
   "execution_count": 15,
   "metadata": {},
   "outputs": [
    {
     "name": "stdout",
     "output_type": "stream",
     "text": [
      "┌──────────────┬──────────────────────────────────────────────┬───────────┬───────────────┬───────────┬───────────────┬───────────┐\n",
      "│   Distric    │                    Barris                    │ RDLpc (€) │ Index (RDLpc) │ RPLpc (€) │ Index (RPLpc) │ timestamp │\n",
      "│   varchar    │                   varchar                    │  double   │    varchar    │  double   │    varchar    │  varchar  │\n",
      "├──────────────┼──────────────────────────────────────────────┼───────────┼───────────────┼───────────┼───────────────┼───────────┤\n",
      "│ Ciutat Vella │ el Raval                                     │    11.178 │ 0.54          │    11.919 │ 0.51          │ 2021      │\n",
      "│ Ciutat Vella │ el Barri Gòtic                               │     15.99 │ 0.77          │    18.668 │ 0.80          │ 2021      │\n",
      "│ Ciutat Vella │ la Barceloneta                               │    14.943 │ 0.72          │    15.659 │ 0.67          │ 2021      │\n",
      "│ Ciutat Vella │ Sant Pere, Santa Caterina i la Ribera        │     16.77 │ 0.81          │    19.731 │ 0.85          │ 2021      │\n",
      "│ l'Eixample   │ el Fort Pienc                                │    21.445 │ 1.04          │    23.509 │ 1.01          │ 2021      │\n",
      "│ l'Eixample   │ la Sagrada Família                           │    20.986 │ 1.02          │    22.917 │ 0.99          │ 2021      │\n",
      "│ l'Eixample   │ la Dreta de l'Eixample                       │    27.492 │ 1.33          │    34.281 │ 1.48          │ 2021      │\n",
      "│ l'Eixample   │ l'Antiga Esquerra de l'Eixample              │    25.946 │ 1.26          │    31.194 │ 1.34          │ 2021      │\n",
      "│ l'Eixample   │ la Nova Esquerra de l'Eixample               │    23.732 │ 1.15          │    26.303 │ 1.13          │ 2021      │\n",
      "│ l'Eixample   │ Sant Antoni                                  │    20.961 │ 1.01          │      22.8 │ 0.98          │ 2021      │\n",
      "│     ·        │    ·                                         │       ·   │  ·            │        ·  │  ·            │  ·        │\n",
      "│     ·        │    ·                                         │       ·   │  ·            │        ·  │  ·            │  ·        │\n",
      "│     ·        │    ·                                         │       ·   │  ·            │        ·  │  ·            │  ·        │\n",
      "│ Sant Marti   │ el Clot                                      │    19.118 │ 0.93          │    20.567 │ 0.89          │ 2021      │\n",
      "│ Sant Marti   │ el Parc i la Llacuna del Poblenou            │    20.413 │ 0.99          │    22.372 │ 0.96          │ 2021      │\n",
      "│ Sant Marti   │ la Vila Olímpica del Poblenou                │    29.155 │ 1.41          │    38.325 │ 1.65          │ 2021      │\n",
      "│ Sant Marti   │ el Poblenou                                  │    21.061 │ 1.02          │    25.118 │ 1.08          │ 2021      │\n",
      "│ Sant Marti   │ Diagonal Mar i el Front Marítim del Poblenou │    24.136 │ 1.17          │    30.549 │ 1.32          │ 2021      │\n",
      "│ Sant Marti   │ el Besòs i el Maresme                        │    12.248 │ 0.59          │    11.706 │ 0.50          │ 2021      │\n",
      "│ Sant Marti   │ Provençals del Poblenou                      │    18.486 │ 0.89          │    20.496 │ 0.88          │ 2021      │\n",
      "│ Sant Marti   │ Sant Martí de Provençals                     │    17.346 │ 0.84          │    17.008 │ 0.73          │ 2021      │\n",
      "│ Sant Marti   │ la Verneda i la Pau                          │    15.711 │ 0.76          │    14.623 │ 0.63          │ 2021      │\n",
      "│ NULL         │ BCN                                          │    20.667 │ 1.00          │    23.215 │ 1.00          │ 2021      │\n",
      "├──────────────┴──────────────────────────────────────────────┴───────────┴───────────────┴───────────┴───────────────┴───────────┤\n",
      "│ 74 rows (20 shown)                                                                                                    7 columns │\n",
      "└─────────────────────────────────────────────────────────────────────────────────────────────────────────────────────────────────┘\n",
      "\n"
     ]
    }
   ],
   "source": [
    "# Example to show the tables can be joined\n",
    "with duckdb.connect(DB_PATH) as con:\n",
    "    response = con.sql(\"SELECT * FROM income_2021\")\n",
    "    print(response)"
   ]
  }
 ],
 "metadata": {
  "kernelspec": {
   "display_name": ".venv",
   "language": "python",
   "name": "python3"
  },
  "language_info": {
   "codemirror_mode": {
    "name": "ipython",
    "version": 3
   },
   "file_extension": ".py",
   "mimetype": "text/x-python",
   "name": "python",
   "nbconvert_exporter": "python",
   "pygments_lexer": "ipython3",
   "version": "3.11.9"
  }
 },
 "nbformat": 4,
 "nbformat_minor": 2
}
