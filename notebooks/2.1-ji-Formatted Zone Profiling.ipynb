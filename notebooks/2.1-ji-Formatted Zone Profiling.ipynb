{
 "cells": [
  {
   "cell_type": "code",
   "execution_count": 13,
   "metadata": {},
   "outputs": [],
   "source": [
    "import duckdb\n",
    "import os\n",
    "import sweetviz as sv\n",
    "import re\n",
    "from datetime import datetime\n",
    "import pandas as pd"
   ]
  },
  {
   "cell_type": "code",
   "execution_count": 16,
   "metadata": {},
   "outputs": [],
   "source": [
    "def data_profiling(db_path, output_dir):\n",
    "    if not os.path.exists(output_dir):\n",
    "        os.makedirs(output_dir)\n",
    "    \n",
    "    # Connect to the DuckDB database\n",
    "    conn = duckdb.connect(db_path)\n",
    "    \n",
    "    # Get list of all tables in the database\n",
    "    tables = conn.execute(\"SELECT table_name FROM information_schema.tables WHERE table_schema = 'main';\").fetchall()\n",
    "    \n",
    "    # Extract the most recent table based on the date in the table name\n",
    "    latest_table = None\n",
    "    latest_date = None\n",
    "    date_pattern = re.compile(r'_(\\d{2})_(\\d{2})_(\\d{4})$')\n",
    "    \n",
    "    for table in tables:\n",
    "        table_name = table[0]\n",
    "        match = date_pattern.search(table_name)\n",
    "        if match:\n",
    "            day, month, year = match.groups()\n",
    "            table_date = datetime.strptime(f\"{day}/{month}/{year}\", \"%d/%m/%Y\")\n",
    "            if latest_date is None or table_date > latest_date:\n",
    "                latest_date = table_date\n",
    "                latest_table = table_name\n",
    "    \n",
    "    # Profile the latest table if found\n",
    "    if latest_table:\n",
    "        print(f\"Reading and profiling table: {latest_table}\")\n",
    "        try:\n",
    "            # Read the table into a DataFrame\n",
    "            df = conn.execute(f\"SELECT * FROM {latest_table}\").fetchdf()\n",
    "            \n",
    "            # Remove unwanted columns if they exist\n",
    "            keyword_list = [\n",
    "                'thumbnail','externalReference','numPhotos','showAddress',\n",
    "                'url','distance','hasVideo','detailedType','suggestedTexts',\n",
    "                'hasPlan','has3DTour','has360','hasStaging','topNewDevelopment',\n",
    "                'parkingSpace','json','index','priceInfo','description',\n",
    "                'topPlus','highlight','newDevelopmentFinished'\n",
    "            ]\n",
    "            df = df.drop(columns=[col for col in keyword_list if col in df.columns], errors='ignore')\n",
    "            \n",
    "            # Convert unhashable types (e.g., dict) to string\n",
    "            df = df.applymap(lambda x: str(x) if isinstance(x, dict) else x)\n",
    "            \n",
    "            # Create a Sweetviz report for the DataFrame\n",
    "            report = sv.analyze(df)\n",
    "            report_path = os.path.join(output_dir, f\"{latest_table}_report.html\")\n",
    "            report.show_html(report_path)\n",
    "        except Exception as e:\n",
    "            print(f\"Error while profiling table '{latest_table}': {e}\")\n",
    "    else:\n",
    "        print(\"No tables with a valid date format found in the database.\")\n",
    "    \n",
    "    # Close the connection\n",
    "    conn.close()"
   ]
  },
  {
   "cell_type": "code",
   "execution_count": 17,
   "metadata": {},
   "outputs": [
    {
     "name": "stdout",
     "output_type": "stream",
     "text": [
      "Reading and profiling table: idealista_21_10_2024\n"
     ]
    },
    {
     "name": "stderr",
     "output_type": "stream",
     "text": [
      "C:\\Users\\Zhengyong Ji\\AppData\\Local\\Temp\\ipykernel_15652\\1585468912.py:44: FutureWarning: DataFrame.applymap has been deprecated. Use DataFrame.map instead.\n",
      "  df = df.applymap(lambda x: str(x) if isinstance(x, dict) else x)\n"
     ]
    },
    {
     "data": {
      "application/vnd.jupyter.widget-view+json": {
       "model_id": "1c6c05ce282f4dce966ee78b40686388",
       "version_major": 2,
       "version_minor": 0
      },
      "text/plain": [
       "                                             |          | [  0%]   00:00 -> (? left)"
      ]
     },
     "metadata": {},
     "output_type": "display_data"
    },
    {
     "name": "stdout",
     "output_type": "stream",
     "text": [
      "Report ../formatted_zone/idealista_21_10_2024_report.html was generated! NOTEBOOK/COLAB USERS: the web browser MAY not pop up, regardless, the report IS saved in your notebook/colab files.\n"
     ]
    }
   ],
   "source": [
    "data_profiling('../formatted_zone/formatted.db', '../formatted_zone/')"
   ]
  }
 ],
 "metadata": {
  "kernelspec": {
   "display_name": "base",
   "language": "python",
   "name": "python3"
  },
  "language_info": {
   "codemirror_mode": {
    "name": "ipython",
    "version": 3
   },
   "file_extension": ".py",
   "mimetype": "text/x-python",
   "name": "python",
   "nbconvert_exporter": "python",
   "pygments_lexer": "ipython3",
   "version": "3.11.7"
  }
 },
 "nbformat": 4,
 "nbformat_minor": 2
}
