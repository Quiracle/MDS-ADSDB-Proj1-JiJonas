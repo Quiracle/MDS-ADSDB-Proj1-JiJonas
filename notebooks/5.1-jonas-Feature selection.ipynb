{
 "cells": [
  {
   "cell_type": "code",
   "execution_count": null,
   "id": "7c2c3c7e",
   "metadata": {},
   "outputs": [],
   "source": [
    "\n",
    "# Import necessary libraries\n",
    "import duckdb\n",
    "import pandas as pd\n",
    "from sklearn.linear_model import LassoCV\n",
    "from sklearn.feature_selection import SelectFromModel\n",
    "from sklearn.impute import SimpleImputer\n"
   ]
  },
  {
   "cell_type": "markdown",
   "id": "4325ee81",
   "metadata": {},
   "source": [
    "# Utility Functions"
   ]
  },
  {
   "cell_type": "code",
   "execution_count": null,
   "id": "d0581755",
   "metadata": {},
   "outputs": [],
   "source": [
    "\n",
    "def summarize_data(data):\n",
    "    \"\"\"Generate a summary of the dataset, including NaN counts.\"\"\"\n",
    "    summary = data.isna().sum().to_frame(name='NaN Count')\n",
    "    summary['Percentage of NaNs'] = (summary['NaN Count'] / len(data)) * 100\n",
    "    return summary\n"
   ]
  },
  {
   "cell_type": "markdown",
   "id": "5b652f1b",
   "metadata": {},
   "source": [
    "# Feature Selection Function"
   ]
  },
  {
   "cell_type": "code",
   "execution_count": null,
   "id": "e3e6ed6b",
   "metadata": {},
   "outputs": [],
   "source": [
    "\n",
    "def feature_selection(database_path, target_table):\n",
    "    # Connect to the DuckDB database\n",
    "    conn = duckdb.connect(database_path)\n",
    "\n",
    "    # Query the data from the analytical sandbox table\n",
    "    query = f\"\"\"\n",
    "    SELECT \n",
    "        size, rooms, bathrooms, latitude, longitude, income_level, \n",
    "        month, year, distance_to_center, price\n",
    "        FROM {target_table};\n",
    "    \"\"\"\n",
    "    data = conn.execute(query).fetchdf()\n",
    "\n",
    "    # Define features (X) and target (y)\n",
    "    X = data.drop(columns=['price'])\n",
    "    y = data['price']\n",
    "\n",
    "    print(\"Summary of Missing Values in Features:\")\n",
    "    print(summarize_data(X))\n",
    "\n",
    "    # Handle missing values in X\n",
    "    imputer = SimpleImputer(strategy='mean')  # Replace missing values with the column mean\n",
    "    X_imputed = pd.DataFrame(imputer.fit_transform(X), columns=X.columns)\n",
    "    print(\"Original X shape:\", X.shape)\n",
    "    print(\"Imputed data shape:\", X_imputed.shape)\n",
    "\n",
    "    # Normalize data (optional, depending on your model's requirements)\n",
    "    X_normalized = (X_imputed - X_imputed.mean()) / X_imputed.std()\n",
    "\n",
    "    # Perform Lasso regression for feature selection\n",
    "    lasso = LassoCV(cv=5).fit(X_normalized, y)\n",
    "    model = SelectFromModel(lasso, prefit=True)\n",
    "\n",
    "    # Get selected features\n",
    "    selected_features = X.columns[model.get_support()]\n",
    "\n",
    "    # Output selected features\n",
    "    print(\"Selected Features:\")\n",
    "    print(selected_features.tolist())\n",
    "\n",
    "    # Disconnect from the database\n",
    "    conn.close()\n",
    "\n",
    "    return selected_features.tolist()\n"
   ]
  },
  {
   "cell_type": "markdown",
   "id": "939c7aed",
   "metadata": {},
   "source": [
    "# Main Execution"
   ]
  },
  {
   "cell_type": "code",
   "execution_count": null,
   "id": "accd7346",
   "metadata": {},
   "outputs": [],
   "source": [
    "\n",
    "def run():\n",
    "    selected_features = feature_selection('model_zone/model.db', 'analytical_sandbox')\n",
    "    print(\"Features selected:\", selected_features)\n",
    "\n",
    "if __name__ == \"__main__\":\n",
    "    run()\n"
   ]
  }
 ],
 "metadata": {},
 "nbformat": 4,
 "nbformat_minor": 5
}