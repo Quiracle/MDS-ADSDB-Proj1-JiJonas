{
 "cells": [
  {
   "cell_type": "code",
   "execution_count": 33,
   "metadata": {},
   "outputs": [],
   "source": [
    "import duckdb"
   ]
  },
  {
   "cell_type": "code",
   "execution_count": 34,
   "metadata": {},
   "outputs": [
    {
     "data": {
      "text/plain": [
       "┌────────────┐\n",
       "│ table_name │\n",
       "│  varchar   │\n",
       "├────────────┤\n",
       "│ idealista  │\n",
       "│ income     │\n",
       "└────────────┘"
      ]
     },
     "execution_count": 34,
     "metadata": {},
     "output_type": "execute_result"
    }
   ],
   "source": [
    "con = duckdb.connect('../trusted_zone/trusted.db')\n",
    "con.sql(\"SELECT table_name FROM information_schema.tables WHERE table_schema = 'main';\")"
   ]
  },
  {
   "cell_type": "code",
   "execution_count": 35,
   "metadata": {},
   "outputs": [
    {
     "data": {
      "text/plain": [
       "┌──────────────┬─────────┬───────────┬──────────────┬───────────┬────────┬──────────┬───────┬───────────┬───────────────────────────────┬───────────┬───────────────────────┬──────────────────────────┬─────────┬────────────────────────────────────────┬────────────┬───────────┬─────────┬────────────────┬─────────┬─────────────┬─────────────────────┐\n",
       "│ propertyCode │  floor  │   price   │ propertyType │ operation │  size  │ exterior │ rooms │ bathrooms │            address            │ province  │     municipality      │         district         │ country │              neighborhood              │  latitude  │ longitude │ status  │ newDevelopment │ hasLift │ priceByArea │      timestamp      │\n",
       "│   varchar    │ varchar │  double   │   varchar    │  varchar  │ double │ boolean  │ int32 │   int32   │            varchar            │  varchar  │        varchar        │         varchar          │ varchar │                varchar                 │   double   │  double   │ varchar │    boolean     │ boolean │   double    │    timestamp_ns     │\n",
       "├──────────────┼─────────┼───────────┼──────────────┼───────────┼────────┼──────────┼───────┼───────────┼───────────────────────────────┼───────────┼───────────────────────┼──────────────────────────┼─────────┼────────────────────────────────────────┼────────────┼───────────┼─────────┼────────────────┼─────────┼─────────────┼─────────────────────┤\n",
       "│ 90225163     │ 2       │  840000.0 │ flat         │ sale      │  194.0 │ true     │     3 │         2 │ barrio el gòtic               │ barcelona │ barcelona             │ ciutat vella             │ es      │ el gòtic                               │ 41.3845925 │ 2.1739273 │ good    │ false          │ true    │      4330.0 │ 2021-03-09 00:00:00 │\n",
       "│ 91571622     │ 7       │ 1500000.0 │ penthouse    │ sale      │  213.0 │ true     │     2 │         4 │ barrio la dreta de l'eixample │ barcelona │ barcelona             │ eixample                 │ es      │ la dreta de l'eixample                 │ 41.3892387 │ 2.1732132 │ good    │ false          │ true    │      7042.0 │ 2021-03-09 00:00:00 │\n",
       "│ 91957628     │ 1       │ 1430000.0 │ flat         │ sale      │  146.0 │ true     │     3 │         2 │ paseo de gracia               │ barcelona │ barcelona             │ eixample                 │ es      │ la dreta de l'eixample                 │ 41.3900821 │ 2.1680485 │ good    │ false          │ true    │      9795.0 │ 2021-03-09 00:00:00 │\n",
       "│ 91700577     │ 2       │  660000.0 │ flat         │ sale      │  120.0 │ true     │     3 │         2 │ ronda de la universitat       │ barcelona │ barcelona             │ eixample                 │ es      │ la dreta de l'eixample                 │ 41.3865562 │ 2.1652718 │ good    │ false          │ true    │      5500.0 │ 2021-03-09 00:00:00 │\n",
       "│ 90252880     │ none    │ 1683000.0 │ flat         │ sale      │  295.0 │ true     │     4 │         4 │ barrio la dreta de l'eixample │ barcelona │ barcelona             │ eixample                 │ es      │ la dreta de l'eixample                 │ 41.3884239 │ 2.1729803 │ good    │ false          │ true    │      5705.0 │ 2021-03-09 00:00:00 │\n",
       "│ 90372505     │ 1       │  850000.0 │ flat         │ sale      │  150.0 │ true     │     4 │         2 │ calle de la diputació         │ barcelona │ barcelona             │ eixample                 │ es      │ la dreta de l'eixample                 │  41.390861 │ 2.1690186 │ good    │ false          │ true    │      5667.0 │ 2021-03-09 00:00:00 │\n",
       "│ 90838456     │ 1       │  750000.0 │ flat         │ sale      │  121.0 │ true     │     3 │         2 │ calle del dr. dou             │ barcelona │ barcelona             │ ciutat vella             │ es      │ el raval                               │ 41.3832412 │ 2.1693685 │ good    │ false          │ true    │      6198.0 │ 2021-03-09 00:00:00 │\n",
       "│ 90838803     │ 2       │  590000.0 │ flat         │ sale      │   72.0 │ true     │     2 │         2 │ rambla la                     │ barcelona │ barcelona             │ ciutat vella             │ es      │ el gòtic                               │ 41.3835827 │ 2.1737327 │ good    │ false          │ true    │      8194.0 │ 2021-03-09 00:00:00 │\n",
       "│ 92592700     │ 2       │  289000.0 │ flat         │ sale      │   75.0 │ true     │     3 │         1 │ calle dels àngels             │ barcelona │ barcelona             │ ciutat vella             │ es      │ el raval                               │ 41.3837058 │ 2.1691511 │ good    │ false          │ true    │      3853.0 │ 2021-03-09 00:00:00 │\n",
       "│ 91319360     │ 3       │ 2500000.0 │ flat         │ sale      │  340.0 │ true     │     2 │         2 │ passatge sert                 │ barcelona │ barcelona             │ ciutat vella             │ es      │ sant pere - santa caterina i la ribera │ 41.3874719 │ 2.1754858 │ good    │ false          │ true    │      7353.0 │ 2021-03-09 00:00:00 │\n",
       "│    ·         │ ·       │      ·    │  ·           │  ·        │    ·   │  ·       │     · │         · │       ·                       │     ·     │     ·                 │      ·                   │ ·       │  ·                                     │      ·     │     ·     │  ·      │   ·            │  ·      │         ·   │          ·          │\n",
       "│    ·         │ ·       │      ·    │  ·           │  ·        │    ·   │  ·       │     · │         · │       ·                       │     ·     │     ·                 │      ·                   │ ·       │  ·                                     │      ·     │     ·     │  ·      │   ·            │  ·      │         ·   │          ·          │\n",
       "│    ·         │ ·       │      ·    │  ·           │  ·        │    ·   │  ·       │     · │         · │       ·                       │     ·     │     ·                 │      ·                   │ ·       │  ·                                     │      ·     │     ·     │  ·      │   ·            │  ·      │         ·   │          ·          │\n",
       "│ 92189153     │ 2       │  609900.0 │ flat         │ sale      │  147.0 │ true     │     4 │         2 │ parc central - colomer        │ barcelona │ sant cugat del vallès │ parc central - colomer   │ es      │ none                                   │ 41.4770696 │ 2.0723863 │ good    │ false          │ true    │      4149.0 │ 2020-09-06 00:00:00 │\n",
       "│ 92813886     │ none    │  449000.0 │ chalet       │ sale      │  125.0 │ false    │     3 │         2 │ la floresta - les planes      │ barcelona │ sant cugat del vallès │ la floresta - les planes │ es      │ none                                   │   41.44726 │   2.07853 │ good    │ false          │ true    │      3592.0 │ 2020-09-06 00:00:00 │\n",
       "│ 92718679     │ none    │  725000.0 │ chalet       │ sale      │  215.0 │ false    │     5 │         3 │ avenida de madrid             │ barcelona │ sant cugat del vallès │ mirasol                  │ es      │ none                                   │ 41.4672928 │ 2.0490107 │ good    │ false          │ true    │      3372.0 │ 2020-09-06 00:00:00 │\n",
       "│ 91451364     │ 2       │  530000.0 │ penthouse    │ sale      │  166.0 │ true     │     3 │         2 │ cristòfor colom               │ barcelona │ sant cugat del vallès │ centre - estació         │ es      │ none                                   │ 41.4728741 │ 2.0787685 │ good    │ false          │ true    │      3193.0 │ 2020-09-06 00:00:00 │\n",
       "│ 82648179     │ none    │ 1400000.0 │ chalet       │ sale      │  403.0 │ false    │     6 │         4 │ valldoreix                    │ barcelona │ sant cugat del vallès │ valldoreix               │ es      │ none                                   │ 41.4651447 │ 2.0583864 │ good    │ false          │ true    │      3474.0 │ 2020-09-06 00:00:00 │\n",
       "│ 90342819     │ 1       │  435000.0 │ flat         │ sale      │  123.0 │ true     │     3 │         2 │ calle d'isidre margenat       │ barcelona │ sant cugat del vallès │ can matas                │ es      │ none                                   │    41.4728 │   2.06561 │ good    │ false          │ true    │      3537.0 │ 2020-09-06 00:00:00 │\n",
       "│ 92713087     │ none    │  535000.0 │ flat         │ sale      │  131.0 │ true     │     3 │         2 │ arxius                        │ barcelona │ sant cugat del vallès │ arxius                   │ es      │ none                                   │ 41.4689651 │ 2.0662786 │ good    │ false          │ true    │      4084.0 │ 2020-09-06 00:00:00 │\n",
       "│ 92117395     │ none    │  840000.0 │ chalet       │ sale      │  363.0 │ false    │     5 │         5 │ golf                          │ barcelona │ sant cugat del vallès │ golf                     │ es      │ none                                   │ 41.4570836 │ 2.0695816 │ good    │ false          │ true    │      2314.0 │ 2020-09-06 00:00:00 │\n",
       "│ 92365877     │ none    │  379000.0 │ chalet       │ sale      │  112.0 │ false    │     2 │         2 │ mirasol                       │ barcelona │ sant cugat del vallès │ mirasol                  │ es      │ none                                   │ 41.4699022 │ 2.0340883 │ good    │ false          │ true    │      3384.0 │ 2020-09-06 00:00:00 │\n",
       "│ 93180929     │ none    │  820000.0 │ chalet       │ sale      │  224.0 │ false    │     4 │         3 │ arxius                        │ barcelona │ sant cugat del vallès │ arxius                   │ es      │ none                                   │ 41.4686859 │ 2.0742353 │ good    │ false          │ true    │      3661.0 │ 2020-09-06 00:00:00 │\n",
       "├──────────────┴─────────┴───────────┴──────────────┴───────────┴────────┴──────────┴───────┴───────────┴───────────────────────────────┴───────────┴───────────────────────┴──────────────────────────┴─────────┴────────────────────────────────────────┴────────────┴───────────┴─────────┴────────────────┴─────────┴─────────────┴─────────────────────┤\n",
       "│ ? rows (>9999 rows, 20 shown)                                                                                                                                                                                                                                                                                                                  22 columns │\n",
       "└───────────────────────────────────────────────────────────────────────────────────────────────────────────────────────────────────────────────────────────────────────────────────────────────────────────────────────────────────────────────────────────────────────────────────────────────────────────────────────────────────────────────────────────┘"
      ]
     },
     "execution_count": 35,
     "metadata": {},
     "output_type": "execute_result"
    }
   ],
   "source": [
    "con.sql(\"SELECT * FROM idealista Order By timestamp Desc\")"
   ]
  },
  {
   "cell_type": "code",
   "execution_count": 36,
   "metadata": {},
   "outputs": [],
   "source": [
    "con.close()"
   ]
  }
 ],
 "metadata": {
  "kernelspec": {
   "display_name": "base",
   "language": "python",
   "name": "python3"
  },
  "language_info": {
   "codemirror_mode": {
    "name": "ipython",
    "version": 3
   },
   "file_extension": ".py",
   "mimetype": "text/x-python",
   "name": "python",
   "nbconvert_exporter": "python",
   "pygments_lexer": "ipython3",
   "version": "3.11.7"
  }
 },
 "nbformat": 4,
 "nbformat_minor": 2
}
