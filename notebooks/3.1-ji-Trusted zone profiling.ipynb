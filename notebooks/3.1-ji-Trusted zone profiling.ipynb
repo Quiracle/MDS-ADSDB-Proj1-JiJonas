{
 "cells": [
  {
   "cell_type": "code",
   "execution_count": 7,
   "metadata": {},
   "outputs": [],
   "source": [
    "import duckdb\n",
    "import pandas as pd\n",
    "import numpy as np\n",
    "import os\n",
    "import sweetviz as sv\n"
   ]
  },
  {
   "cell_type": "code",
   "execution_count": 8,
   "metadata": {},
   "outputs": [
    {
     "data": {
      "text/plain": [
       "┌────────────┐\n",
       "│ table_name │\n",
       "│  varchar   │\n",
       "├────────────┤\n",
       "│ fotocasa   │\n",
       "│ idealista  │\n",
       "│ income     │\n",
       "└────────────┘"
      ]
     },
     "execution_count": 8,
     "metadata": {},
     "output_type": "execute_result"
    }
   ],
   "source": [
    "con = duckdb.connect('../trusted_zone/trusted.db')\n",
    "con.sql(\"SELECT table_name FROM information_schema.tables WHERE table_schema = 'main';\")"
   ]
  },
  {
   "cell_type": "code",
   "execution_count": 9,
   "metadata": {},
   "outputs": [
    {
     "data": {
      "text/plain": [
       "┌──────────────┬─────────┬──────────┬──────────────┬───────────┬────────┬──────────┬────────┬───────────┬────────────────────────────────────┬───────────┬─────────────────────────┬────────────────────────────────────┬─────────┬────────────────────────────────────────┬────────────┬───────────┬────────────────┬────────────────┬─────────┬─────────────┬────────────┐\n",
       "│ propertyCode │  floor  │  price   │ propertyType │ operation │  size  │ exterior │ rooms  │ bathrooms │              address               │ province  │      municipality       │              district              │ country │              neighborhood              │  latitude  │ longitude │     status     │ newDevelopment │ hasLift │ priceByArea │ timestamp  │\n",
       "│   varchar    │ varchar │  double  │   varchar    │  varchar  │ double │ boolean  │ double │  double   │              varchar               │  varchar  │         varchar         │              varchar               │ varchar │                varchar                 │   double   │  double   │    varchar     │    boolean     │ boolean │   double    │  varchar   │\n",
       "├──────────────┼─────────┼──────────┼──────────────┼───────────┼────────┼──────────┼────────┼───────────┼────────────────────────────────────┼───────────┼─────────────────────────┼────────────────────────────────────┼─────────┼────────────────────────────────────────┼────────────┼───────────┼────────────────┼────────────────┼─────────┼─────────────┼────────────┤\n",
       "│ 105597311    │ 2       │   1800.0 │ studio       │ rent      │   48.0 │ true     │    0.0 │       1.0 │ barrio Vila de Gràcia              │ Barcelona │ Barcelona               │ Gràcia                             │ es      │ Vila de Gràcia                         │ 41.4008736 │ 2.1549242 │ good           │ false          │ true    │        38.0 │ 2024-10-21 │\n",
       "│ 106012521    │ NULL    │   2500.0 │ chalet       │ rent      │  307.0 │ NULL     │    6.0 │       2.0 │ Arenys de Munt                     │ Barcelona │ Arenys de Munt          │ NULL                               │ es      │ NULL                                   │ 41.6041629 │ 2.5428116 │ good           │ false          │ NULL    │         8.0 │ 2024-10-21 │\n",
       "│ 105659580    │ 1       │   2600.0 │ flat         │ rent      │  170.0 │ true     │    3.0 │       2.0 │ barrio El Gòtic                    │ Barcelona │ Barcelona               │ Ciutat Vella                       │ es      │ El Gòtic                               │ 41.3771689 │ 2.1784121 │ good           │ false          │ true    │        15.0 │ 2024-10-21 │\n",
       "│ 85052056     │ 1       │   2600.0 │ flat         │ rent      │  170.0 │ true     │    3.0 │       2.0 │ plaza del Duc de Medinaceli        │ Barcelona │ Barcelona               │ Ciutat Vella                       │ es      │ El Gòtic                               │ 41.3776985 │ 2.1801263 │ good           │ false          │ true    │        15.0 │ 2024-10-21 │\n",
       "│ 105902187    │ NULL    │   1800.0 │ flat         │ rent      │   96.0 │ NULL     │    3.0 │       2.0 │ L'Aragai - Prat de Vilanova        │ Barcelona │ Vilanova i la Geltrú    │ L'Aragai - Prat de Vilanova        │ es      │ NULL                                   │ 41.2066962 │ 1.7041922 │ good           │ false          │ false   │        19.0 │ 2024-10-21 │\n",
       "│ 94034710     │ 3       │   2150.0 │ flat         │ rent      │   76.0 │ true     │    2.0 │       1.0 │ rambla de Prat                     │ Barcelona │ Barcelona               │ Gràcia                             │ es      │ Vila de Gràcia                         │  41.402973 │ 2.1520147 │ good           │ false          │ true    │        28.0 │ 2024-10-21 │\n",
       "│ 105839174    │ 5       │   1150.0 │ flat         │ rent      │   75.0 │ true     │    1.0 │       1.0 │ calle de Sardenya                  │ Barcelona │ Barcelona               │ Sant Martí                         │ es      │ La Vila Olímpica del Poblenou          │ 41.3897076 │ 2.1891655 │ good           │ false          │ true    │        15.0 │ 2024-10-21 │\n",
       "│ 100806673    │ NULL    │   2425.0 │ chalet       │ rent      │   70.0 │ NULL     │    1.0 │       2.0 │ calle de la Ribera, 10             │ Barcelona │ Barcelona               │ Ciutat Vella                       │ es      │ Sant Pere - Santa Caterina i la Ribera │ 41.3853263 │ 2.1844959 │ good           │ false          │ NULL    │        35.0 │ 2024-10-21 │\n",
       "│ 103240250    │ 2       │   2250.0 │ flat         │ rent      │   50.0 │ true     │    1.0 │       1.0 │ napols, 130                        │ Barcelona │ Barcelona               │ Eixample                           │ es      │ El Fort Pienc                          │ 41.3962126 │ 2.1785072 │ good           │ false          │ true    │        45.0 │ 2024-10-21 │\n",
       "│ 105860022    │ NULL    │   3900.0 │ flat         │ rent      │  220.0 │ true     │    4.0 │       3.0 │ Vinyet-Terramar-Can Pei-Can Girona │ Barcelona │ Sitges                  │ Vinyet-Terramar-Can Pei-Can Girona │ es      │ NULL                                   │ 41.2273655 │ 1.7866435 │ good           │ false          │ true    │        18.0 │ 2024-10-21 │\n",
       "│    ·         │ ·       │      ·   │  ·           │  ·        │     ·  │  ·       │     ·  │        ·  │         ·                          │     ·     │   ·                     │       ·                            │ ·       │  ·                                     │      ·     │     ·     │  ·             │   ·            │  ·      │          ·  │     ·      │\n",
       "│    ·         │ ·       │      ·   │  ·           │  ·        │     ·  │  ·       │     ·  │        ·  │         ·                          │     ·     │   ·                     │       ·                            │ ·       │  ·                                     │      ·     │     ·     │  ·             │   ·            │  ·      │          ·  │     ·      │\n",
       "│    ·         │ ·       │      ·   │  ·           │  ·        │     ·  │  ·       │     ·  │        ·  │         ·                          │     ·     │   ·                     │       ·                            │ ·       │  ·                                     │      ·     │     ·     │  ·             │   ·            │  ·      │          ·  │     ·      │\n",
       "│ 92656603     │ 6       │ 330000.0 │ flat         │ sale      │   97.0 │ false    │    4.0 │       1.0 │ barrio La Bordeta                  │ Barcelona │ Barcelona               │ Sants-Montjuïc                     │ es      │ La Bordeta                             │ 41.3700383 │ 2.1327276 │ good           │ false          │ false   │      3402.0 │ 2020-09-14 │\n",
       "│ 92649167     │ 1       │ 213000.0 │ flat         │ sale      │   73.0 │ true     │    2.0 │       1.0 │ Angel guimera                      │ Barcelona │ Hospitalet de Llobregat │ Santa Eulàlia                      │ es      │ Santa Eulàlia                          │ 41.3639382 │ 2.1264375 │ good           │ false          │ true    │      2918.0 │ 2020-09-14 │\n",
       "│ 92662411     │ 1       │ 139000.0 │ flat         │ sale      │   66.0 │ true     │    3.0 │       1.0 │ modern                             │ Barcelona │ Hospitalet de Llobregat │ Santa Eulàlia                      │ es      │ Santa Eulàlia                          │ 41.3632566 │ 2.1299014 │ good           │ false          │ false   │      2106.0 │ 2020-09-14 │\n",
       "│ 91068739     │ 1       │ 271000.0 │ flat         │ sale      │   73.0 │ true     │    2.0 │       2.0 │ Calle Angel Guimera, 31            │ Barcelona │ Hospitalet de Llobregat │ Santa Eulàlia                      │ es      │ Santa Eulàlia                          │ 41.3654718 │ 2.1242657 │ newdevelopment │ true           │ true    │      3712.0 │ 2020-09-14 │\n",
       "│ 92654668     │ 5       │ 258000.0 │ flat         │ sale      │   78.0 │ true     │    3.0 │       2.0 │ barrio Santa Eulàlia               │ Barcelona │ Hospitalet de Llobregat │ Santa Eulàlia                      │ es      │ Santa Eulàlia                          │ 41.3638063 │ 2.1245979 │ good           │ false          │ true    │      3308.0 │ 2020-09-14 │\n",
       "│ 92611253     │ 1       │ 144000.0 │ flat         │ sale      │   69.0 │ true     │    3.0 │       2.0 │ Calle Holanda                      │ Barcelona │ Hospitalet de Llobregat │ La Torrasa                         │ es      │ La Torrasa                             │ 41.3684848 │ 2.1265203 │ good           │ false          │ true    │      2087.0 │ 2020-09-14 │\n",
       "│ 92642115     │ 2       │ 159000.0 │ flat         │ sale      │   70.0 │ true     │    3.0 │       1.0 │ Avenida del Carrilet               │ Barcelona │ Hospitalet de Llobregat │ Santa Eulàlia                      │ es      │ Santa Eulàlia                          │ 41.3665877 │ 2.1233307 │ good           │ false          │ true    │      2271.0 │ 2020-09-14 │\n",
       "│ 92595178     │ 2       │ 245000.0 │ flat         │ sale      │   75.0 │ true     │    3.0 │       1.0 │ Calle Santa Eulàlia, 38            │ Barcelona │ Hospitalet de Llobregat │ Santa Eulàlia                      │ es      │ Santa Eulàlia                          │ 41.3674722 │ 2.1292743 │ good           │ false          │ true    │      3267.0 │ 2020-09-14 │\n",
       "│ 92593454     │ 2       │ 185000.0 │ flat         │ sale      │   56.0 │ true     │    2.0 │       1.0 │ santa eulalia                      │ Barcelona │ Hospitalet de Llobregat │ Santa Eulàlia                      │ es      │ Santa Eulàlia                          │ 41.3639176 │  2.128988 │ good           │ false          │ true    │      3304.0 │ 2020-09-14 │\n",
       "│ 89007951     │ NULL    │ 392900.0 │ flat         │ sale      │  110.0 │ true     │    4.0 │       2.0 │ barrio Santa Eulàlia               │ Barcelona │ Hospitalet de Llobregat │ Santa Eulàlia                      │ es      │ Santa Eulàlia                          │ 41.3652087 │ 2.1232727 │ good           │ false          │ true    │      3572.0 │ 2020-09-14 │\n",
       "├──────────────┴─────────┴──────────┴──────────────┴───────────┴────────┴──────────┴────────┴───────────┴────────────────────────────────────┴───────────┴─────────────────────────┴────────────────────────────────────┴─────────┴────────────────────────────────────────┴────────────┴───────────┴────────────────┴────────────────┴─────────┴─────────────┴────────────┤\n",
       "│ ? rows (>9999 rows, 20 shown)                                                                                                                                                                                                                                                                                                                                 22 columns │\n",
       "└──────────────────────────────────────────────────────────────────────────────────────────────────────────────────────────────────────────────────────────────────────────────────────────────────────────────────────────────────────────────────────────────────────────────────────────────────────────────────────────────────────────────────────────────────────────┘"
      ]
     },
     "execution_count": 9,
     "metadata": {},
     "output_type": "execute_result"
    }
   ],
   "source": [
    "con.sql(\"SELECT * FROM idealista Order By timestamp Desc\")"
   ]
  },
  {
   "cell_type": "code",
   "execution_count": 10,
   "metadata": {},
   "outputs": [],
   "source": [
    "con.close()"
   ]
  },
  {
   "cell_type": "code",
   "execution_count": 11,
   "metadata": {},
   "outputs": [],
   "source": [
    "def data_profiling(db_path, output_dir):\n",
    "    if not os.path.exists(output_dir):\n",
    "        os.makedirs(output_dir)\n",
    "    \n",
    "    # Connect to the DuckDB database\n",
    "    conn = duckdb.connect(db_path)\n",
    "    \n",
    "    # Get list of all tables in the database\n",
    "    tables = conn.execute(\"SELECT table_name FROM information_schema.tables WHERE table_schema = 'main';\").fetchall()\n",
    "    \n",
    "    # Iterate over each table and load into a DataFrame\n",
    "    for table in tables:\n",
    "        table_name = table[0]\n",
    "        print(f\"Reading and profiling table: {table_name}\")\n",
    "        try:\n",
    "            # Read the table into a DataFrame\n",
    "            df = conn.execute(f\"SELECT * FROM {table_name}\").fetchdf()\n",
    "            \n",
    "            # Create a Sweetviz report for the DataFrame\n",
    "            report = sv.analyze(df)\n",
    "            report_path = os.path.join(output_dir, f\"{table_name}_report.html\")\n",
    "            report.show_html(report_path)\n",
    "        except Exception as e:\n",
    "            print(f\"Error while profiling table '{table_name}': {e}\")\n",
    "    \n",
    "    # Close the connection\n",
    "    conn.close()\n",
    "\n"
   ]
  },
  {
   "cell_type": "code",
   "execution_count": 12,
   "metadata": {},
   "outputs": [
    {
     "name": "stdout",
     "output_type": "stream",
     "text": [
      "Reading and profiling table: fotocasa\n"
     ]
    },
    {
     "data": {
      "application/vnd.jupyter.widget-view+json": {
       "model_id": "1e62f0c8369a40859ebcae4ac3d46dcd",
       "version_major": 2,
       "version_minor": 0
      },
      "text/plain": [
       "                                             |          | [  0%]   00:00 -> (? left)"
      ]
     },
     "metadata": {},
     "output_type": "display_data"
    },
    {
     "name": "stdout",
     "output_type": "stream",
     "text": [
      "Error while profiling table 'fotocasa': unhashable type: 'numpy.ndarray'\n",
      "Reading and profiling table: idealista\n"
     ]
    },
    {
     "data": {
      "application/vnd.jupyter.widget-view+json": {
       "model_id": "63bd2460a8ff475086942aceca6d9a92",
       "version_major": 2,
       "version_minor": 0
      },
      "text/plain": [
       "                                             |          | [  0%]   00:00 -> (? left)"
      ]
     },
     "metadata": {},
     "output_type": "display_data"
    },
    {
     "name": "stdout",
     "output_type": "stream",
     "text": [
      "Report ../trusted_zone/idealista_report.html was generated! NOTEBOOK/COLAB USERS: the web browser MAY not pop up, regardless, the report IS saved in your notebook/colab files.\n",
      "Reading and profiling table: income\n"
     ]
    },
    {
     "data": {
      "application/vnd.jupyter.widget-view+json": {
       "model_id": "088174e53c6642f4a0d9632f04c7348e",
       "version_major": 2,
       "version_minor": 0
      },
      "text/plain": [
       "                                             |          | [  0%]   00:00 -> (? left)"
      ]
     },
     "metadata": {},
     "output_type": "display_data"
    },
    {
     "name": "stdout",
     "output_type": "stream",
     "text": [
      "Report ../trusted_zone/income_report.html was generated! NOTEBOOK/COLAB USERS: the web browser MAY not pop up, regardless, the report IS saved in your notebook/colab files.\n"
     ]
    }
   ],
   "source": [
    "data_profiling('../trusted_zone/trusted.db', '../trusted_zone/')"
   ]
  }
 ],
 "metadata": {
  "kernelspec": {
   "display_name": "base",
   "language": "python",
   "name": "python3"
  },
  "language_info": {
   "codemirror_mode": {
    "name": "ipython",
    "version": 3
   },
   "file_extension": ".py",
   "mimetype": "text/x-python",
   "name": "python",
   "nbconvert_exporter": "python",
   "pygments_lexer": "ipython3",
   "version": "3.11.7"
  }
 },
 "nbformat": 4,
 "nbformat_minor": 2
}
