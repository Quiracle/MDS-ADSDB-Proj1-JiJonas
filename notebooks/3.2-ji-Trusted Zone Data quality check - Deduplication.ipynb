{
 "cells": [
  {
   "cell_type": "code",
   "execution_count": 3,
   "metadata": {},
   "outputs": [],
   "source": [
    "import duckdb\n",
    "import pandas as pd\n",
    "import os"
   ]
  },
  {
   "cell_type": "code",
   "execution_count": 1,
   "metadata": {},
   "outputs": [],
   "source": [
    "def deduplication(db_path):\n",
    "    # Connect to the DuckDB database\n",
    "    conn = duckdb.connect(db_path)\n",
    "    \n",
    "    # Get list of all tables in the database\n",
    "    tables = conn.execute(\"SELECT table_name FROM information_schema.tables WHERE table_schema = 'main';\").fetchall()\n",
    "    \n",
    "    # Iterate over each table and deduplicate\n",
    "    for table in tables:\n",
    "        table_name = table[0]\n",
    "        print(f\"Reading and deduplicating table: {table_name}\")\n",
    "        try:\n",
    "            # Deduplication: Remove duplicate rows\n",
    "            conn.execute(f\"CREATE TABLE {table_name}_deduplicated AS SELECT DISTINCT * FROM {table_name};\")\n",
    "            conn.execute(f\"DROP TABLE {table_name};\")\n",
    "            conn.execute(f\"ALTER TABLE {table_name}_deduplicated RENAME TO {table_name};\")\n",
    "        except Exception as e:\n",
    "            print(f\"Error while deduplicating table '{table_name}': {e}\")\n",
    "    \n",
    "    # Close the connection\n",
    "    conn.close()"
   ]
  },
  {
   "cell_type": "code",
   "execution_count": 4,
   "metadata": {},
   "outputs": [
    {
     "name": "stdout",
     "output_type": "stream",
     "text": [
      "Reading and deduplicating table: fotocasa\n",
      "Reading and deduplicating table: idealista\n",
      "Reading and deduplicating table: income\n"
     ]
    }
   ],
   "source": [
    "deduplication('../trusted_zone/trusted.db')"
   ]
  }
 ],
 "metadata": {
  "kernelspec": {
   "display_name": "base",
   "language": "python",
   "name": "python3"
  },
  "language_info": {
   "codemirror_mode": {
    "name": "ipython",
    "version": 3
   },
   "file_extension": ".py",
   "mimetype": "text/x-python",
   "name": "python",
   "nbconvert_exporter": "python",
   "pygments_lexer": "ipython3",
   "version": "3.11.7"
  }
 },
 "nbformat": 4,
 "nbformat_minor": 2
}
