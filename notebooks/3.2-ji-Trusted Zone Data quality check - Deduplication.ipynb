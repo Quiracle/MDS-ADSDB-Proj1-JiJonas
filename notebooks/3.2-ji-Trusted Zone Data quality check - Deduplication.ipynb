{
 "cells": [
  {
   "cell_type": "code",
   "execution_count": 7,
   "metadata": {},
   "outputs": [],
   "source": [
    "import duckdb\n",
    "import pandas as pd\n",
    "import os"
   ]
  },
  {
   "cell_type": "code",
   "execution_count": 8,
   "metadata": {},
   "outputs": [],
   "source": [
    "def deduplication(db_path):\n",
    "    # Connect to the DuckDB database\n",
    "    conn = duckdb.connect(db_path)\n",
    "    \n",
    "    # Get list of all tables in the database\n",
    "    tables = conn.execute(\"SELECT table_name FROM information_schema.tables WHERE table_schema = 'main';\").fetchall()\n",
    "    \n",
    "    # Iterate over each table and deduplicate\n",
    "    for table in tables:\n",
    "        table_name = table[0]\n",
    "        print(f\"Reading and deduplicating table: {table_name}\")\n",
    "        try:\n",
    "            # Count rows before deduplication\n",
    "            count_before = conn.execute(f\"SELECT COUNT(*) FROM {table_name};\").fetchone()[0]\n",
    "            \n",
    "            # Deduplication: Remove duplicate rows\n",
    "            conn.execute(f\"CREATE TABLE {table_name}_deduplicated AS SELECT DISTINCT * FROM {table_name};\")\n",
    "            conn.execute(f\"DROP TABLE {table_name};\")\n",
    "            conn.execute(f\"ALTER TABLE {table_name}_deduplicated RENAME TO {table_name};\")\n",
    "            \n",
    "            # Count rows after deduplication\n",
    "            count_after = conn.execute(f\"SELECT COUNT(*) FROM {table_name};\").fetchone()[0]\n",
    "            \n",
    "            # Calculate and inform the number of rows removed\n",
    "            rows_removed = count_before - count_after\n",
    "            print(f\"Deduplicated table '{table_name}': removed {rows_removed} rows.\\n\")\n",
    "            \n",
    "        except Exception as e:\n",
    "            print(f\"Error while deduplicating table '{table_name}': {e}\\n\")\n",
    "    \n",
    "    # Close the connection\n",
    "    conn.close()"
   ]
  },
  {
   "cell_type": "code",
   "execution_count": 9,
   "metadata": {},
   "outputs": [
    {
     "name": "stdout",
     "output_type": "stream",
     "text": [
      "Reading and deduplicating table: idealista\n",
      "Deduplicated table 'idealista': removed 58 rows.\n",
      "\n",
      "Reading and deduplicating table: income\n",
      "Deduplicated table 'income': removed 0 rows.\n",
      "\n"
     ]
    }
   ],
   "source": [
    "deduplication('../trusted_zone/trusted.db')"
   ]
  }
 ],
 "metadata": {
  "kernelspec": {
   "display_name": "base",
   "language": "python",
   "name": "python3"
  },
  "language_info": {
   "codemirror_mode": {
    "name": "ipython",
    "version": 3
   },
   "file_extension": ".py",
   "mimetype": "text/x-python",
   "name": "python",
   "nbconvert_exporter": "python",
   "pygments_lexer": "ipython3",
   "version": "3.11.7"
  }
 },
 "nbformat": 4,
 "nbformat_minor": 2
}
