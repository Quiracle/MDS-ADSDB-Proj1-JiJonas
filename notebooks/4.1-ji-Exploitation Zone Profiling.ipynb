{
 "cells": [
  {
   "cell_type": "markdown",
   "metadata": {},
   "source": [
    "# 4.1 Exploitation Zone Profiling"
   ]
  },
  {
   "cell_type": "markdown",
   "metadata": {},
   "source": [
    "This notebook performs data profiling on tables from a exploitation zone database. Using user defined profiling library from previous steps."
   ]
  },
  {
   "cell_type": "code",
   "execution_count": 1,
   "metadata": {},
   "outputs": [],
   "source": [
    "import duckdb\n",
    "import pandas as pd\n",
    "import numpy as np\n",
    "import os\n",
    "import sweetviz as sv\n",
    "from customized_profiling import customized_profiling"
   ]
  },
  {
   "cell_type": "markdown",
   "metadata": {},
   "source": [
    "Profiling using Sweetviz library (The visualization is better, but it's a third party library. We cannot implement it directly into our project)"
   ]
  },
  {
   "cell_type": "code",
   "execution_count": 2,
   "metadata": {},
   "outputs": [],
   "source": [
    "def data_profiling(db_path, output_dir):\n",
    "    if not os.path.exists(output_dir):\n",
    "        os.makedirs(output_dir)\n",
    "    \n",
    "    # Connect to the DuckDB database\n",
    "    conn = duckdb.connect(db_path)\n",
    "    \n",
    "    # Get list of all tables in the database\n",
    "    tables = conn.execute(\"SELECT table_name FROM information_schema.tables WHERE table_schema = 'main';\").fetchall()\n",
    "    \n",
    "    # Iterate over each table and load into a DataFrame\n",
    "    for table in tables:\n",
    "        table_name = table[0]\n",
    "        print(f\"Reading and profiling table: {table_name}\")\n",
    "        try:\n",
    "            # Read the table into a DataFrame\n",
    "            df = conn.execute(f\"SELECT * FROM {table_name}\").fetchdf()\n",
    "            \n",
    "            # Create a Sweetviz report for the DataFrame\n",
    "            report = sv.analyze(df)\n",
    "            report_path = os.path.join(output_dir, f\"{table_name}_report.html\")\n",
    "            report.show_html(report_path)\n",
    "        except Exception as e:\n",
    "            print(f\"Error while profiling table '{table_name}': {e}\")\n",
    "    \n",
    "    # Close the connection\n",
    "    conn.close()\n",
    "\n",
    "# data_profiling('../trusted_zone/trusted.db', '../trusted_zone/')\n"
   ]
  },
  {
   "cell_type": "markdown",
   "metadata": {},
   "source": [
    "Profiling using own code as project statement requires"
   ]
  },
  {
   "cell_type": "code",
   "execution_count": 3,
   "metadata": {},
   "outputs": [
    {
     "name": "stdout",
     "output_type": "stream",
     "text": [
      "Reading and profiling table: idealista\n",
      "Reading and profiling table: income\n"
     ]
    }
   ],
   "source": [
    "def profile_database(db_path, output_path):\n",
    "    if not os.path.exists(output_path):\n",
    "        os.makedirs(output_path)\n",
    "    \n",
    "    # Connect to the DuckDB database\n",
    "    conn = duckdb.connect(db_path)\n",
    "    \n",
    "    # Get list of all tables in the database\n",
    "    tables = conn.execute(\"SELECT table_name FROM information_schema.tables WHERE table_schema = 'main';\").fetchall()\n",
    "    # Iterate over each table and load into a DataFrame\n",
    "    for table in tables:\n",
    "        table_name = table[0]\n",
    "        print(f\"Reading and profiling table: {table_name}\")\n",
    "        try:\n",
    "            # Read the table into a DataFrame\n",
    "            df = conn.execute(f\"SELECT * FROM {table_name}\").fetchdf()\n",
    "            \n",
    "            # Perform customized profiling\n",
    "            customized_profiling(df, table_name, output_path)\n",
    "        except Exception as e:\n",
    "            print(f\"Error while profiling table '{table_name}': {e}\")\n",
    "    \n",
    "    # Close the connection\n",
    "    conn.close()\n",
    "\n",
    "profile_database('../trusted_zone/trusted.db', '../trusted_zone/')\n"
   ]
  }
 ],
 "metadata": {
  "kernelspec": {
   "display_name": "base",
   "language": "python",
   "name": "python3"
  },
  "language_info": {
   "codemirror_mode": {
    "name": "ipython",
    "version": 3
   },
   "file_extension": ".py",
   "mimetype": "text/x-python",
   "name": "python",
   "nbconvert_exporter": "python",
   "pygments_lexer": "ipython3",
   "version": "3.11.7"
  }
 },
 "nbformat": 4,
 "nbformat_minor": 2
}
