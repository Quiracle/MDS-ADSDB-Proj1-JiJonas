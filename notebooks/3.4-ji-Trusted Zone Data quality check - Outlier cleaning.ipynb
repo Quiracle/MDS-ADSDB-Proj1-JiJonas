{
 "cells": [
  {
   "cell_type": "code",
   "execution_count": 30,
   "metadata": {},
   "outputs": [],
   "source": [
    "import duckdb\n",
    "import pandas as pd\n",
    "import os"
   ]
  },
  {
   "cell_type": "code",
   "execution_count": 35,
   "metadata": {},
   "outputs": [],
   "source": [
    "def remove_idealista_outliers(db_path):\n",
    "    # Connect to the DuckDB database\n",
    "    conn = duckdb.connect(db_path)\n",
    "    \n",
    "    table_name = \"idealista\"\n",
    "\n",
    "    try:\n",
    "        # Count initial number of records\n",
    "        initial_count = conn.execute(f\"SELECT COUNT(*) FROM {table_name};\").fetchone()[0]\n",
    "        \n",
    "        # Remove records with size larger than 1000 m²\n",
    "        conn.execute(f\"DELETE FROM {table_name} WHERE size > 1000;\")\n",
    "        \n",
    "        # Remove records with price higher than 5,000,000\n",
    "        conn.execute(f\"DELETE FROM {table_name} WHERE price > 5000000;\")\n",
    "        \n",
    "        # Remove records with operation type 'rent'\n",
    "        conn.execute(f\"DELETE FROM {table_name} WHERE operation = 'rent';\")\n",
    "        \n",
    "        # Remove records where province is not 'Barcelona'\n",
    "        conn.execute(f\"DELETE FROM {table_name} WHERE province != 'barcelona';\")\n",
    "        \n",
    "        # Remove records with municipality 'other'\n",
    "        conn.execute(f\"DELETE FROM {table_name} WHERE municipality != 'barcelona';\")\n",
    "\n",
    "        # Remove records where country is not 'Spain'\n",
    "        conn.execute(f\"DELETE FROM {table_name} WHERE country != 'es';\")\n",
    "        \n",
    "        # Count final number of records\n",
    "        final_count = conn.execute(f\"SELECT COUNT(*) FROM {table_name};\").fetchone()[0]\n",
    "        \n",
    "        # Calculate the number of outliers removed\n",
    "        removed_outliers = initial_count - final_count\n",
    "        print(f\"Number of outliers removed: {removed_outliers}\")\n",
    "        \n",
    "    except Exception as e:\n",
    "        print(f\"Error while removing outliers from table '{table_name}': {e}\")\n",
    "    \n",
    "    # Close the connection\n",
    "    conn.close()"
   ]
  },
  {
   "cell_type": "code",
   "execution_count": 48,
   "metadata": {},
   "outputs": [],
   "source": [
    "def remove_income_outliers(db_path):\n",
    "    # Connect to the DuckDB database\n",
    "    conn = duckdb.connect(db_path)\n",
    "    \n",
    "    table_name = \"income\"\n",
    "\n",
    "    try:\n",
    "        # Count initial number of records\n",
    "        initial_count = conn.execute(f\"SELECT COUNT(*) FROM {table_name};\").fetchone()[0]\n",
    "\n",
    "        conn.execute(f\"DELETE FROM {table_name} WHERE district IS NULL;\")\n",
    "        \n",
    "        # Count final number of records\n",
    "        final_count = conn.execute(f\"SELECT COUNT(*) FROM {table_name};\").fetchone()[0]\n",
    "        \n",
    "        # Calculate the number of outliers removed\n",
    "        removed_outliers = initial_count - final_count\n",
    "        print(f\"Number of outliers removed: {removed_outliers}\")\n",
    "        \n",
    "    except Exception as e:\n",
    "        print(f\"Error while removing outliers from table '{table_name}': {e}\")\n",
    "    \n",
    "    # Close the connection\n",
    "    conn.close()"
   ]
  },
  {
   "cell_type": "code",
   "execution_count": 50,
   "metadata": {},
   "outputs": [
    {
     "name": "stdout",
     "output_type": "stream",
     "text": [
      "Number of outliers removed: 0\n",
      "Number of outliers removed: 2\n"
     ]
    }
   ],
   "source": [
    "remove_idealista_outliers('../trusted_zone/trusted.db')\n",
    "remove_income_outliers('../trusted_zone/trusted.db')"
   ]
  }
 ],
 "metadata": {
  "kernelspec": {
   "display_name": "base",
   "language": "python",
   "name": "python3"
  },
  "language_info": {
   "codemirror_mode": {
    "name": "ipython",
    "version": 3
   },
   "file_extension": ".py",
   "mimetype": "text/x-python",
   "name": "python",
   "nbconvert_exporter": "python",
   "pygments_lexer": "ipython3",
   "version": "3.11.7"
  }
 },
 "nbformat": 4,
 "nbformat_minor": 2
}
