{
 "cells": [
  {
   "cell_type": "code",
   "execution_count": 1,
   "metadata": {},
   "outputs": [],
   "source": [
    "import duckdb\n",
    "import pandas as pd\n",
    "import os"
   ]
  },
  {
   "cell_type": "code",
   "execution_count": 9,
   "metadata": {},
   "outputs": [],
   "source": [
    "def remove_outliers(db_path):\n",
    "    # Connect to the DuckDB database\n",
    "    conn = duckdb.connect(db_path)\n",
    "    \n",
    "    # Get list of all tables in the database\n",
    "    tables = conn.execute(\"SELECT table_name FROM information_schema.tables WHERE table_schema = 'main';\").fetchall()\n",
    "\n",
    "    # Iterate over each table and apply outlier removal rules\n",
    "    for table in tables:\n",
    "        table_name = table[0]\n",
    "        print(f\"Removing outliers from table: {table_name}\")\n",
    "        try:\n",
    "            # Remove records with size larger than 1000 m2\n",
    "            conn.execute(f\"DELETE FROM {table_name} WHERE size > 1000;\")\n",
    "            \n",
    "            # Remove records with price higher than 5,000,000\n",
    "            conn.execute(f\"DELETE FROM {table_name} WHERE price > 5000000;\")\n",
    "            \n",
    "            # Remove records with operation type 'rent'\n",
    "            conn.execute(f\"DELETE FROM {table_name} WHERE operation = 'rent';\")\n",
    "            \n",
    "            # Remove records where province is not 'Barcelona'\n",
    "            conn.execute(f\"DELETE FROM {table_name} WHERE province != 'Barcelona';\")\n",
    "            \n",
    "            # Remove records with municipality 'other'\n",
    "            conn.execute(f\"DELETE FROM {table_name} WHERE municipality = 'other';\")\n",
    "            \n",
    "            # Remove redundant column 'country'\n",
    "            conn.execute(f\"ALTER TABLE {table_name} DROP COLUMN IF EXISTS country;\")\n",
    "            # Remove records where country is not 'Spain'\n",
    "            conn.execute(f\"DELETE FROM {table_name} WHERE country != 'es';\")\n",
    "        except Exception as e:\n",
    "            print(f\"Error while removing outliers from table '{table_name}': {e}\")\n",
    "    \n",
    "    # Close the connection\n",
    "    conn.close()"
   ]
  },
  {
   "cell_type": "code",
   "execution_count": 10,
   "metadata": {},
   "outputs": [
    {
     "name": "stdout",
     "output_type": "stream",
     "text": [
      "Removing outliers from table: idealista\n",
      "Removing outliers from table: idealista\n",
      "Removing outliers from table: idealista\n"
     ]
    }
   ],
   "source": [
    "remove_outliers('../trusted_zone/trusted.db')"
   ]
  }
 ],
 "metadata": {
  "kernelspec": {
   "display_name": "base",
   "language": "python",
   "name": "python3"
  },
  "language_info": {
   "codemirror_mode": {
    "name": "ipython",
    "version": 3
   },
   "file_extension": ".py",
   "mimetype": "text/x-python",
   "name": "python",
   "nbconvert_exporter": "python",
   "pygments_lexer": "ipython3",
   "version": "3.11.7"
  }
 },
 "nbformat": 4,
 "nbformat_minor": 2
}
