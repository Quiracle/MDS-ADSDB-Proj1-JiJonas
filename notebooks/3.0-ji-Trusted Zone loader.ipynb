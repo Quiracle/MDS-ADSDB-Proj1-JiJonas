{
 "cells": [
  {
   "cell_type": "code",
   "execution_count": 1,
   "metadata": {},
   "outputs": [],
   "source": [
    "import duckdb\n",
    "import pandas as pd\n",
    "import numpy as np"
   ]
  },
  {
   "cell_type": "code",
   "execution_count": 25,
   "metadata": {},
   "outputs": [],
   "source": [
    "def merge_tables_by_keyword(db_path, keyword):\n",
    "    # Connect to the DuckDB database\n",
    "    conn = duckdb.connect(db_path)\n",
    "    \n",
    "    # Query to get all table names containing the specified keyword\n",
    "    query = f\"SELECT table_name FROM information_schema.tables WHERE table_name ILIKE '%{keyword}%';\"\n",
    "    table_names = conn.execute(query).fetchall()\n",
    "\n",
    "    # Extract table names from query result\n",
    "    table_names = [name[0] for name in table_names]\n",
    "\n",
    "    # Read each table into a DataFrame and merge them\n",
    "    merged_df = pd.DataFrame()\n",
    "    for table_name in table_names:\n",
    "        try:\n",
    "            df = conn.execute(f'SELECT * FROM {table_name}').fetchdf()\n",
    "            merged_df = pd.concat([merged_df, df], ignore_index=True)\n",
    "        except Exception as e:\n",
    "            print(f\"Error while processing table '{table_name}': {e}\")\n",
    "\n",
    "    # Close the connection\n",
    "    conn.close()\n",
    "    \n",
    "    return merged_df\n",
    "\n",
    "def save_merged_table_to_new_db(merged_df, new_db_path, table_name):\n",
    "    # Connect to the new DuckDB database\n",
    "    conn = duckdb.connect(new_db_path)\n",
    "    \n",
    "    # Drop the table if it exists\n",
    "    conn.execute(f\"DROP TABLE IF EXISTS {table_name}\")\n",
    "    \n",
    "    # Replace problematic objects with NaN to avoid type conversion issues\n",
    "    merged_df = merged_df.applymap(lambda x: np.nan if isinstance(x, dict) else x)\n",
    "    \n",
    "    # Save the merged DataFrame to the new database\n",
    "    conn.register('merged_df', merged_df)\n",
    "    conn.execute(f\"CREATE TABLE {table_name} AS SELECT * FROM merged_df\")\n",
    "    \n",
    "    # Close the connection\n",
    "    conn.close()\n",
    "\n",
    "def merge_and_save_all_groups(db_path, new_db_path):\n",
    "    # Define the keywords to group tables by\n",
    "    keywords = ['idealista', 'income', 'fotocasa']\n",
    "    \n",
    "    for keyword in keywords:\n",
    "        # Merge tables by keyword\n",
    "        merged_df = merge_tables_by_keyword(db_path, keyword)\n",
    "        \n",
    "        # Save the merged DataFrame to the new database\n",
    "        save_merged_table_to_new_db(merged_df, new_db_path, table_name=keyword)\n"
   ]
  },
  {
   "cell_type": "code",
   "execution_count": 26,
   "metadata": {},
   "outputs": [
    {
     "name": "stderr",
     "output_type": "stream",
     "text": [
      "C:\\Users\\Zhengyong Ji\\AppData\\Local\\Temp\\ipykernel_5592\\1515188529.py:34: FutureWarning: DataFrame.applymap has been deprecated. Use DataFrame.map instead.\n",
      "  merged_df = merged_df.applymap(lambda x: np.nan if isinstance(x, dict) else x)\n",
      "C:\\Users\\Zhengyong Ji\\AppData\\Local\\Temp\\ipykernel_5592\\1515188529.py:34: FutureWarning: DataFrame.applymap has been deprecated. Use DataFrame.map instead.\n",
      "  merged_df = merged_df.applymap(lambda x: np.nan if isinstance(x, dict) else x)\n",
      "C:\\Users\\Zhengyong Ji\\AppData\\Local\\Temp\\ipykernel_5592\\1515188529.py:34: FutureWarning: DataFrame.applymap has been deprecated. Use DataFrame.map instead.\n",
      "  merged_df = merged_df.applymap(lambda x: np.nan if isinstance(x, dict) else x)\n"
     ]
    }
   ],
   "source": [
    "merge_and_save_all_groups('../formatted_zone/formatted.db', '../trusted_zone/trusted.db')"
   ]
  },
  {
   "cell_type": "code",
   "execution_count": 29,
   "metadata": {},
   "outputs": [],
   "source": [
    "def drop_unwanted_columns(db_path, table_name):\n",
    "    # Connect to the DuckDB database\n",
    "    conn = duckdb.connect(db_path)\n",
    "    \n",
    "    # List of columns to drop\n",
    "    keyword_list = [\n",
    "        'thumbnail','externalReference','numPhotos','showAddress',\n",
    "        'url','distance','hasVideo','detailedType','suggestedTexts',\n",
    "        'hasPlan','has3DTour','has360','hasStaging','topNewDevelopment',\n",
    "        'parkingSpace','json','index','priceInfo','description',\n",
    "        'topPlus','highlight','newDevelopmentFinished'\n",
    "    ]\n",
    "    \n",
    "    # Iterate over the keyword list and drop each column if it exists\n",
    "    for keyword in keyword_list:\n",
    "        try:\n",
    "            conn.execute(f\"ALTER TABLE {table_name} DROP COLUMN IF EXISTS {keyword}\")\n",
    "        except Exception as e:\n",
    "            print(f\"Error while dropping column '{keyword}': {e}\")\n",
    "    \n",
    "    # Save the modified table to a new database\n",
    "    modified_df = conn.execute(f\"SELECT * FROM {table_name}\").fetchdf()\n",
    "    conn.close()\n",
    "    \n",
    "    # Connect to the output database and save the modified table\n",
    "    output_conn = duckdb.connect(db_path)\n",
    "    output_conn.register('modified_df', modified_df)\n",
    "\n",
    "    # Drop the table if it exists\n",
    "    output_conn.execute(f\"DROP TABLE IF EXISTS {table_name}\")\n",
    "    output_conn.execute(f\"CREATE TABLE {table_name} AS SELECT * FROM modified_df\")\n",
    "    output_conn.close()"
   ]
  },
  {
   "cell_type": "code",
   "execution_count": 30,
   "metadata": {},
   "outputs": [],
   "source": [
    "\n",
    "drop_unwanted_columns('../trusted_zone/trusted.db', 'idealista')"
   ]
  },
  {
   "cell_type": "code",
   "execution_count": 31,
   "metadata": {},
   "outputs": [
    {
     "data": {
      "text/plain": [
       "┌────────────┐\n",
       "│ table_name │\n",
       "│  varchar   │\n",
       "├────────────┤\n",
       "│ fotocasa   │\n",
       "│ idealista  │\n",
       "│ income     │\n",
       "└────────────┘"
      ]
     },
     "execution_count": 31,
     "metadata": {},
     "output_type": "execute_result"
    }
   ],
   "source": [
    "con = duckdb.connect('../trusted_zone/trusted.db')\n",
    "con.sql(\"SELECT table_name FROM information_schema.tables WHERE table_schema = 'main';\")"
   ]
  },
  {
   "cell_type": "code",
   "execution_count": 32,
   "metadata": {},
   "outputs": [
    {
     "data": {
      "text/plain": [
       "┌──────────────┬─────────┬───────────┬──────────────┬───────────┬────────┬──────────┬────────┬───────────┬───────────────────────────────────────────────┬───────────┬──────────────┬────────────────┬─────────┬────────────────────────────────────────┬────────────┬───────────┬─────────┬────────────────┬─────────┬─────────────┬────────────┐\n",
       "│ propertyCode │  floor  │   price   │ propertyType │ operation │  size  │ exterior │ rooms  │ bathrooms │                    address                    │ province  │ municipality │    district    │ country │              neighborhood              │  latitude  │ longitude │ status  │ newDevelopment │ hasLift │ priceByArea │ timestamp  │\n",
       "│   varchar    │ varchar │  double   │   varchar    │  varchar  │ double │ boolean  │ double │  double   │                    varchar                    │  varchar  │   varchar    │    varchar     │ varchar │                varchar                 │   double   │  double   │ varchar │    boolean     │ boolean │   double    │  varchar   │\n",
       "├──────────────┼─────────┼───────────┼──────────────┼───────────┼────────┼──────────┼────────┼───────────┼───────────────────────────────────────────────┼───────────┼──────────────┼────────────────┼─────────┼────────────────────────────────────────┼────────────┼───────────┼─────────┼────────────────┼─────────┼─────────────┼────────────┤\n",
       "│ 84372470     │ 3       │  345000.0 │ flat         │ sale      │   70.0 │ false    │    2.0 │       2.0 │ barrio El Poble Sec - Parc de Montjuïc        │ Barcelona │ Barcelona    │ Sants-Montjuïc │ es      │ El Poble Sec - Parc de Montjuïc        │ 41.3709507 │ 2.1669982 │ good    │ false          │ false   │      4929.0 │ 2020-06-01 │\n",
       "│ 84401224     │ 3       │  299500.0 │ flat         │ sale      │   61.0 │ true     │    2.0 │       1.0 │ Roser                                         │ Barcelona │ Barcelona    │ Sants-Montjuïc │ es      │ El Poble Sec - Parc de Montjuïc        │ 41.3708918 │ 2.1672772 │ good    │ false          │ false   │      4910.0 │ 2020-06-01 │\n",
       "│ 92413644     │ 3       │  298500.0 │ flat         │ sale      │   80.0 │ true     │    2.0 │       1.0 │ Calle Nou de la Rambla                        │ Barcelona │ Barcelona    │ Sants-Montjuïc │ es      │ El Poble Sec - Parc de Montjuïc        │ 41.3708881 │ 2.1686306 │ good    │ false          │ false   │      3731.0 │ 2020-06-01 │\n",
       "│ 91457315     │ 2       │  206900.0 │ flat         │ sale      │   50.0 │ true     │    2.0 │       1.0 │ Calle del Roser                               │ Barcelona │ Barcelona    │ Sants-Montjuïc │ es      │ El Poble Sec - Parc de Montjuïc        │ 41.3709242 │ 2.1676964 │ good    │ false          │ false   │      4138.0 │ 2020-06-01 │\n",
       "│ 92459080     │ NULL    │  350000.0 │ penthouse    │ sale      │   60.0 │ true     │    3.0 │       1.0 │ barrio El Poble Sec - Parc de Montjuïc        │ Barcelona │ Barcelona    │ Sants-Montjuïc │ es      │ El Poble Sec - Parc de Montjuïc        │  41.370724 │ 2.1687149 │ good    │ false          │ true    │      5833.0 │ 2020-06-01 │\n",
       "│ 88978970     │ NULL    │  189500.0 │ flat         │ sale      │   46.0 │ false    │    2.0 │       1.0 │ barrio El Poble Sec - Parc de Montjuïc        │ Barcelona │ Barcelona    │ Sants-Montjuïc │ es      │ El Poble Sec - Parc de Montjuïc        │ 41.3700475 │ 2.1660944 │ good    │ false          │ false   │      4120.0 │ 2020-06-01 │\n",
       "│ 90782668     │ 6       │  265000.0 │ penthouse    │ sale      │   78.0 │ true     │    3.0 │       1.0 │ Calle de Blesa, Barcelona                     │ Barcelona │ Barcelona    │ Sants-Montjuïc │ es      │ El Poble Sec - Parc de Montjuïc        │ 41.3707889 │ 2.1687076 │ good    │ false          │ true    │      3397.0 │ 2020-06-01 │\n",
       "│ 92248147     │ 5       │  295000.0 │ flat         │ sale      │   65.0 │ true     │    2.0 │       1.0 │ Calle de Blesa                                │ Barcelona │ Barcelona    │ Sants-Montjuïc │ es      │ El Poble Sec - Parc de Montjuïc        │  41.370331 │ 2.1686528 │ good    │ false          │ true    │      4538.0 │ 2020-06-01 │\n",
       "│ 92016409     │ NULL    │  179800.0 │ flat         │ sale      │   65.0 │ false    │    2.0 │       1.0 │ Calle Nou de la Rambla                        │ Barcelona │ Barcelona    │ Sants-Montjuïc │ es      │ El Poble Sec - Parc de Montjuïc        │ 41.3704006 │ 2.1665008 │ renew   │ false          │ NULL    │      2766.0 │ 2020-06-01 │\n",
       "│ 90240480     │ 1       │  228000.0 │ flat         │ sale      │   75.0 │ true     │    3.0 │       1.0 │ BLESA                                         │ Barcelona │ Barcelona    │ Sants-Montjuïc │ es      │ El Poble Sec - Parc de Montjuïc        │ 41.3706906 │ 2.1671815 │ good    │ false          │ true    │      3040.0 │ 2020-06-01 │\n",
       "│    ·         │ ·       │      ·    │  ·           │  ·        │     ·  │  ·       │     ·  │        ·  │   ·                                           │     ·     │     ·        │    ·           │ ·       │           ·                            │      ·     │     ·     │  ·      │   ·            │  ·      │         ·   │     ·      │\n",
       "│    ·         │ ·       │      ·    │  ·           │  ·        │     ·  │  ·       │     ·  │        ·  │   ·                                           │     ·     │     ·        │    ·           │ ·       │           ·                            │      ·     │     ·     │  ·      │   ·            │  ·      │         ·   │     ·      │\n",
       "│    ·         │ ·       │      ·    │  ·           │  ·        │     ·  │  ·       │     ·  │        ·  │   ·                                           │     ·     │     ·        │    ·           │ ·       │           ·                            │      ·     │     ·     │  ·      │   ·            │  ·      │         ·   │     ·      │\n",
       "│ 89766850     │ NULL    │  995000.0 │ flat         │ sale      │  225.0 │ false    │    3.0 │       2.0 │ barrio La Dreta de l'Eixample                 │ Barcelona │ Barcelona    │ Eixample       │ es      │ La Dreta de l'Eixample                 │ 41.3888405 │ 2.1666935 │ good    │ false          │ NULL    │      4422.0 │ 2021-03-09 │\n",
       "│ 88917535     │ 2       │  595000.0 │ flat         │ sale      │  160.0 │ true     │    5.0 │       2.0 │ Via LAYETANA                                  │ Barcelona │ Barcelona    │ Ciutat Vella   │ es      │ Sant Pere - Santa Caterina i la Ribera │ 41.3853448 │ 2.1751405 │ good    │ false          │ true    │      3719.0 │ 2021-03-09 │\n",
       "│ 87263740     │ 4       │ 1950000.0 │ duplex       │ sale      │  232.0 │ true     │    7.0 │       3.0 │ Calle de Santa Anna                           │ Barcelona │ Barcelona    │ Ciutat Vella   │ es      │ El Gòtic                               │ 41.3871023 │ 2.1725433 │ good    │ false          │ true    │      8405.0 │ 2021-03-09 │\n",
       "│ 83204540     │ 6       │  400000.0 │ flat         │ sale      │   55.0 │ true     │    1.0 │       1.0 │ barrio La Dreta de l'Eixample                 │ Barcelona │ Barcelona    │ Eixample       │ es      │ La Dreta de l'Eixample                 │ 41.3866813 │ 2.1656278 │ renew   │ false          │ true    │      7273.0 │ 2021-03-09 │\n",
       "│ 82024018     │ bj      │  250000.0 │ flat         │ sale      │   45.0 │ true     │    1.0 │       1.0 │ barrio La Dreta de l'Eixample                 │ Barcelona │ Barcelona    │ Eixample       │ es      │ La Dreta de l'Eixample                 │ 41.3895009 │   2.16672 │ good    │ false          │ true    │      5556.0 │ 2021-03-09 │\n",
       "│ 92210323     │ 3       │  990000.0 │ flat         │ sale      │  283.0 │ true     │    5.0 │       2.0 │ barrio La Dreta de l'Eixample                 │ Barcelona │ Barcelona    │ Eixample       │ es      │ La Dreta de l'Eixample                 │ 41.3861734 │ 2.1673985 │ renew   │ false          │ true    │      3498.0 │ 2021-03-09 │\n",
       "│ 91208793     │ bj      │  450000.0 │ flat         │ sale      │   79.0 │ false    │    3.0 │       3.0 │ barrio El Gòtic                               │ Barcelona │ Barcelona    │ Ciutat Vella   │ es      │ El Gòtic                               │  41.388282 │ 2.1715339 │ good    │ false          │ true    │      5696.0 │ 2021-03-09 │\n",
       "│ 83697080     │ 3       │  475000.0 │ flat         │ sale      │  130.0 │ true     │    2.0 │       1.0 │ Calle de Sant Pere Més Alt, Barcelona         │ Barcelona │ Barcelona    │ Ciutat Vella   │ es      │ Sant Pere - Santa Caterina i la Ribera │ 41.3894611 │ 2.1740549 │ good    │ false          │ true    │      3654.0 │ 2021-03-09 │\n",
       "│ 86228138     │ 1       │ 1060000.0 │ flat         │ sale      │  337.0 │ true     │    6.0 │       3.0 │ barrio La Dreta de l'Eixample                 │ Barcelona │ Barcelona    │ Eixample       │ es      │ La Dreta de l'Eixample                 │ 41.3887186 │  2.175322 │ good    │ false          │ true    │      3145.0 │ 2021-03-09 │\n",
       "│ 83378880     │ 1       │ 1695000.0 │ flat         │ sale      │  349.0 │ true     │    4.0 │       3.0 │ barrio Sant Pere - Santa Caterina i la Ribera │ Barcelona │ Barcelona    │ Ciutat Vella   │ es      │ Sant Pere - Santa Caterina i la Ribera │ 41.3882224 │ 2.1746846 │ good    │ false          │ true    │      4857.0 │ 2021-03-09 │\n",
       "├──────────────┴─────────┴───────────┴──────────────┴───────────┴────────┴──────────┴────────┴───────────┴───────────────────────────────────────────────┴───────────┴──────────────┴────────────────┴─────────┴────────────────────────────────────────┴────────────┴───────────┴─────────┴────────────────┴─────────┴─────────────┴────────────┤\n",
       "│ ? rows (>9999 rows, 20 shown)                                                                                                                                                                                                                                                                                                       22 columns │\n",
       "└────────────────────────────────────────────────────────────────────────────────────────────────────────────────────────────────────────────────────────────────────────────────────────────────────────────────────────────────────────────────────────────────────────────────────────────────────────────────────────────────────────────────┘"
      ]
     },
     "execution_count": 32,
     "metadata": {},
     "output_type": "execute_result"
    }
   ],
   "source": [
    "con.sql(\"SELECT * FROM idealista\")"
   ]
  }
 ],
 "metadata": {
  "kernelspec": {
   "display_name": "base",
   "language": "python",
   "name": "python3"
  },
  "language_info": {
   "codemirror_mode": {
    "name": "ipython",
    "version": 3
   },
   "file_extension": ".py",
   "mimetype": "text/x-python",
   "name": "python",
   "nbconvert_exporter": "python",
   "pygments_lexer": "ipython3",
   "version": "3.11.7"
  }
 },
 "nbformat": 4,
 "nbformat_minor": 2
}
