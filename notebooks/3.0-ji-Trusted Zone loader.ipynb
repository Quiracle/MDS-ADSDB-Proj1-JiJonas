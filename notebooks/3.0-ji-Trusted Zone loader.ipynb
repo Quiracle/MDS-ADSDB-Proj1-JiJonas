{
 "cells": [
  {
   "cell_type": "code",
   "execution_count": 1,
   "metadata": {},
   "outputs": [],
   "source": [
    "import duckdb\n",
    "import pandas as pd"
   ]
  },
  {
   "cell_type": "code",
   "execution_count": 40,
   "metadata": {},
   "outputs": [],
   "source": [
    "def merge_tables_by_keyword(db_path, keyword):\n",
    "    # Connect to the DuckDB database\n",
    "    conn = duckdb.connect(db_path)\n",
    "    \n",
    "    # Query to get all table names containing the specified keyword\n",
    "    query = f\"SELECT table_name FROM information_schema.tables WHERE table_name ILIKE '%{keyword}%';\"\n",
    "    table_names = conn.execute(query).fetchall()\n",
    "\n",
    "    # Extract table names from query result\n",
    "    table_names = [name[0] for name in table_names]\n",
    "\n",
    "    # Read each table into a DataFrame and merge them\n",
    "    merged_df = pd.DataFrame()\n",
    "    for table_name in table_names:\n",
    "        df = conn.execute(f'SELECT * FROM {table_name}').fetchdf()\n",
    "        merged_df = pd.concat([merged_df, df], ignore_index=True)\n",
    "\n",
    "    # Close the connection\n",
    "    conn.close()\n",
    "    \n",
    "    return merged_df\n",
    "\n",
    "def save_merged_table_to_new_db(merged_df, new_db_path, table_name):\n",
    "    # Connect to the new DuckDB database\n",
    "    conn = duckdb.connect(new_db_path)\n",
    "    \n",
    "    # Drop the table if it exists\n",
    "    conn.execute(f\"DROP TABLE IF EXISTS {table_name}\")\n",
    "    \n",
    "    # Save the merged DataFrame to the new database\n",
    "    conn.execute(f\"CREATE TABLE {table_name} AS SELECT * FROM merged_df\")\n",
    "    \n",
    "    # Close the connection\n",
    "    conn.close()\n",
    "\n",
    "def merge_and_save_all_groups(db_path, new_db_path):\n",
    "    # Define the keywords to group tables by\n",
    "    keywords = ['idealista', 'income', 'fotocasa']\n",
    "    \n",
    "    for keyword in keywords:\n",
    "        # Merge tables by keyword\n",
    "        merged_df = merge_tables_by_keyword(db_path, keyword)\n",
    "        \n",
    "        # Save the merged DataFrame to the new database\n",
    "        save_merged_table_to_new_db(merged_df, new_db_path, table_name=keyword)\n",
    "\n"
   ]
  },
  {
   "cell_type": "code",
   "execution_count": 41,
   "metadata": {},
   "outputs": [],
   "source": [
    "merge_and_save_all_groups('../formatted_zone/formatted.db', '../trusted_zone/trusted.db')"
   ]
  },
  {
   "cell_type": "code",
   "execution_count": 42,
   "metadata": {},
   "outputs": [],
   "source": [
    "con = duckdb.connect('../trusted_zone/trusted.db')"
   ]
  },
  {
   "cell_type": "code",
   "execution_count": 43,
   "metadata": {},
   "outputs": [
    {
     "data": {
      "text/plain": [
       "┌────────────┐\n",
       "│ table_name │\n",
       "│  varchar   │\n",
       "├────────────┤\n",
       "│ fotocasa   │\n",
       "│ idealista  │\n",
       "│ income     │\n",
       "└────────────┘"
      ]
     },
     "execution_count": 43,
     "metadata": {},
     "output_type": "execute_result"
    }
   ],
   "source": [
    "con.sql(\"SELECT table_name FROM information_schema.tables WHERE table_schema = 'main';\")"
   ]
  },
  {
   "cell_type": "code",
   "execution_count": 44,
   "metadata": {},
   "outputs": [
    {
     "data": {
      "text/plain": [
       "┌─────────────────────┬────────────────────────────────────────┬───────────────────────┬─────────────────────┬─────────────┬───────────────────────────┬───────────────────────────┬─────────────────┬──────────────┬─────────────────────────────────────────────────────────────────────────────────────────────┬───────────────────┬───────────┬─────────┬───────────┬──────────────┬───────────┬────────┬──────────┬────────┬───────────┬─────────────────────────────────┬───────────┬──────────────┬─────────┬────────────┬───────────┬─────────────┬──────────────────────────────────────────────┬──────────┬──────────┬─────────┬────────────────┬─────────┬─────────────┬───────────────────────────────────┬──────────────────────────────────────────────────────────────────────────────────────────────────────────┬─────────┬───────────┬─────────┬────────────┬───────────────────┬──────────────────────┬────────────┬────────────────────────┬───────┬────────┬────────────────────────────────────────────────────────────────────────────────────────────────────────────────────────────────────────────────────────────┬─────────────┬─────────┬──────────────────────────────────┐\n",
       "│      district       │              neighborhood              │ district_n_reconciled │     district_n      │ district_id │ neighborhood_n_reconciled │      neighborhood_n       │ neighborhood_id │ propertyCode │                                          thumbnail                                          │ externalReference │ numPhotos │  floor  │   price   │ propertyType │ operation │  size  │ exterior │ rooms  │ bathrooms │             address             │ province  │ municipality │ country │  latitude  │ longitude │ showAddress │                     url                      │ distance │ hasVideo │ status  │ newDevelopment │ hasLift │ priceByArea │           detailedType            │                                              suggestedTexts                                              │ hasPlan │ has3DTour │ has360  │ hasStaging │ topNewDevelopment │     parkingSpace     │ timestamp  │ newDevelopmentFinished │ json  │ index  │                                                                         priceInfo                                                                          │ description │ topPlus │            highlight             │\n",
       "│       varchar       │                varchar                 │        varchar        │       varchar       │   varchar   │          varchar          │          varchar          │     varchar     │   varchar    │                                           varchar                                           │      varchar      │  double   │ varchar │  double   │   varchar    │  varchar  │ double │ boolean  │ double │  double   │             varchar             │  varchar  │   varchar    │ varchar │   double   │  double   │   boolean   │                   varchar                    │ varchar  │ boolean  │ varchar │    boolean     │ boolean │   double    │       map(varchar, varchar)       │                                 struct(subtitle varchar, title varchar)                                  │ boolean │  boolean  │ boolean │  boolean   │      boolean      │ map(varchar, double) │  varchar   │        boolean         │ int32 │ double │ struct(price struct(amount double, currencysuffix varchar, pricedropinfo struct(formerprice double, pricedropvalue integer, pricedroppercentage integer))) │   varchar   │ boolean │ struct(groupdescription varchar) │\n",
       "├─────────────────────┼────────────────────────────────────────┼───────────────────────┼─────────────────────┼─────────────┼───────────────────────────┼───────────────────────────┼─────────────────┼──────────────┼─────────────────────────────────────────────────────────────────────────────────────────────┼───────────────────┼───────────┼─────────┼───────────┼──────────────┼───────────┼────────┼──────────┼────────┼───────────┼─────────────────────────────────┼───────────┼──────────────┼─────────┼────────────┼───────────┼─────────────┼──────────────────────────────────────────────┼──────────┼──────────┼─────────┼────────────────┼─────────┼─────────────┼───────────────────────────────────┼──────────────────────────────────────────────────────────────────────────────────────────────────────────┼─────────┼───────────┼─────────┼────────────┼───────────────────┼──────────────────────┼────────────┼────────────────────────┼───────┼────────┼────────────────────────────────────────────────────────────────────────────────────────────────────────────────────────────────────────────────────────────┼─────────────┼─────────┼──────────────────────────────────┤\n",
       "│ Sants-Montjuïc      │ La Marina del Port                     │ Sants-Montjuïc        │ sants montjuic      │ Q753075     │ La Marina de Port         │ la marina del port        │ Q3751076        │ NULL         │ NULL                                                                                        │ NULL              │      NULL │ NULL    │      NULL │ NULL         │ NULL      │   NULL │ NULL     │   NULL │      NULL │ NULL                            │ NULL      │ NULL         │ NULL    │       NULL │      NULL │ NULL        │ NULL                                         │ NULL     │ NULL     │ NULL    │ NULL           │ NULL    │        NULL │ NULL                              │ NULL                                                                                                     │ NULL    │ NULL      │ NULL    │ NULL       │ NULL              │ NULL                 │ NULL       │ NULL                   │  NULL │   NULL │ NULL                                                                                                                                                       │ NULL        │ NULL    │ NULL                             │\n",
       "│ Horta Guinardó      │ El Baix Guinardó                       │ Horta-Guinardó        │ horta guinardo      │ Q1771488    │ El Baix Guinardó          │ el baix guinardo          │ Q3297875        │ NULL         │ NULL                                                                                        │ NULL              │      NULL │ NULL    │      NULL │ NULL         │ NULL      │   NULL │ NULL     │   NULL │      NULL │ NULL                            │ NULL      │ NULL         │ NULL    │       NULL │      NULL │ NULL        │ NULL                                         │ NULL     │ NULL     │ NULL    │ NULL           │ NULL    │        NULL │ NULL                              │ NULL                                                                                                     │ NULL    │ NULL      │ NULL    │ NULL       │ NULL              │ NULL                 │ NULL       │ NULL                   │  NULL │   NULL │ NULL                                                                                                                                                       │ NULL        │ NULL    │ NULL                             │\n",
       "│ Eixample            │ La Dreta de l'Eixample                 │ Eixample              │ eixample            │ Q64124      │ Dreta de l'Eixample       │ la dreta de l eixample    │ Q1904302        │ NULL         │ NULL                                                                                        │ NULL              │      NULL │ NULL    │      NULL │ NULL         │ NULL      │   NULL │ NULL     │   NULL │      NULL │ NULL                            │ NULL      │ NULL         │ NULL    │       NULL │      NULL │ NULL        │ NULL                                         │ NULL     │ NULL     │ NULL    │ NULL           │ NULL    │        NULL │ NULL                              │ NULL                                                                                                     │ NULL    │ NULL      │ NULL    │ NULL       │ NULL              │ NULL                 │ NULL       │ NULL                   │  NULL │   NULL │ NULL                                                                                                                                                       │ NULL        │ NULL    │ NULL                             │\n",
       "│ Sant Andreu         │ El Congrés i els Indians               │ Sant Andreu           │ sant andreu         │ Q1650230    │ El Congrés i els Indians  │ el congres i els indians  │ Q3813818        │ NULL         │ NULL                                                                                        │ NULL              │      NULL │ NULL    │      NULL │ NULL         │ NULL      │   NULL │ NULL     │   NULL │      NULL │ NULL                            │ NULL      │ NULL         │ NULL    │       NULL │      NULL │ NULL        │ NULL                                         │ NULL     │ NULL     │ NULL    │ NULL           │ NULL    │        NULL │ NULL                              │ NULL                                                                                                     │ NULL    │ NULL      │ NULL    │ NULL       │ NULL              │ NULL                 │ NULL       │ NULL                   │  NULL │   NULL │ NULL                                                                                                                                                       │ NULL        │ NULL    │ NULL                             │\n",
       "│ Horta Guinardó      │ El Carmel                              │ Horta-Guinardó        │ horta guinardo      │ Q1771488    │ El Carmel                 │ el carmel                 │ Q3319498        │ NULL         │ NULL                                                                                        │ NULL              │      NULL │ NULL    │      NULL │ NULL         │ NULL      │   NULL │ NULL     │   NULL │      NULL │ NULL                            │ NULL      │ NULL         │ NULL    │       NULL │      NULL │ NULL        │ NULL                                         │ NULL     │ NULL     │ NULL    │ NULL           │ NULL    │        NULL │ NULL                              │ NULL                                                                                                     │ NULL    │ NULL      │ NULL    │ NULL       │ NULL              │ NULL                 │ NULL       │ NULL                   │  NULL │   NULL │ NULL                                                                                                                                                       │ NULL        │ NULL    │ NULL                             │\n",
       "│ Gràcia              │ Vallcarca i els Penitents              │ Gràcia                │ gracia              │ Q852697     │ Vallcarca i els Penitents │ vallcarca i els penitents │ Q2057331        │ NULL         │ NULL                                                                                        │ NULL              │      NULL │ NULL    │      NULL │ NULL         │ NULL      │   NULL │ NULL     │   NULL │      NULL │ NULL                            │ NULL      │ NULL         │ NULL    │       NULL │      NULL │ NULL        │ NULL                                         │ NULL     │ NULL     │ NULL    │ NULL           │ NULL    │        NULL │ NULL                              │ NULL                                                                                                     │ NULL    │ NULL      │ NULL    │ NULL       │ NULL              │ NULL                 │ NULL       │ NULL                   │  NULL │   NULL │ NULL                                                                                                                                                       │ NULL        │ NULL    │ NULL                             │\n",
       "│ Les Corts           │ Pedralbes                              │ Les Corts             │ les corts           │ Q959944     │ Pedralbes                 │ pedralbes                 │ Q2562684        │ NULL         │ NULL                                                                                        │ NULL              │      NULL │ NULL    │      NULL │ NULL         │ NULL      │   NULL │ NULL     │   NULL │      NULL │ NULL                            │ NULL      │ NULL         │ NULL    │       NULL │      NULL │ NULL        │ NULL                                         │ NULL     │ NULL     │ NULL    │ NULL           │ NULL    │        NULL │ NULL                              │ NULL                                                                                                     │ NULL    │ NULL      │ NULL    │ NULL       │ NULL              │ NULL                 │ NULL       │ NULL                   │  NULL │   NULL │ NULL                                                                                                                                                       │ NULL        │ NULL    │ NULL                             │\n",
       "│ Sarrià-Sant Gervasi │ El Putxet i el Farró                   │ Sarrià-Sant Gervasi   │ sarria sant gervasi │ Q1765582    │ El Putxet i el Farró      │ el putxet i el farro      │ Q3321805        │ NULL         │ NULL                                                                                        │ NULL              │      NULL │ NULL    │      NULL │ NULL         │ NULL      │   NULL │ NULL     │   NULL │      NULL │ NULL                            │ NULL      │ NULL         │ NULL    │       NULL │      NULL │ NULL        │ NULL                                         │ NULL     │ NULL     │ NULL    │ NULL           │ NULL    │        NULL │ NULL                              │ NULL                                                                                                     │ NULL    │ NULL      │ NULL    │ NULL       │ NULL              │ NULL                 │ NULL       │ NULL                   │  NULL │   NULL │ NULL                                                                                                                                                       │ NULL        │ NULL    │ NULL                             │\n",
       "│ Gràcia              │ Vila de Gràcia                         │ Gràcia                │ gracia              │ Q852697     │ Vila de Gràcia            │ vila de gracia            │ Q2741611        │ NULL         │ NULL                                                                                        │ NULL              │      NULL │ NULL    │      NULL │ NULL         │ NULL      │   NULL │ NULL     │   NULL │      NULL │ NULL                            │ NULL      │ NULL         │ NULL    │       NULL │      NULL │ NULL        │ NULL                                         │ NULL     │ NULL     │ NULL    │ NULL           │ NULL    │        NULL │ NULL                              │ NULL                                                                                                     │ NULL    │ NULL      │ NULL    │ NULL       │ NULL              │ NULL                 │ NULL       │ NULL                   │  NULL │   NULL │ NULL                                                                                                                                                       │ NULL        │ NULL    │ NULL                             │\n",
       "│ Horta Guinardó      │ La Font d'En Fargues                   │ Horta-Guinardó        │ horta guinardo      │ Q1771488    │ La Font d'en Fargues      │ la font d en fargues      │ Q3297889        │ NULL         │ NULL                                                                                        │ NULL              │      NULL │ NULL    │      NULL │ NULL         │ NULL      │   NULL │ NULL     │   NULL │      NULL │ NULL                            │ NULL      │ NULL         │ NULL    │       NULL │      NULL │ NULL        │ NULL                                         │ NULL     │ NULL     │ NULL    │ NULL           │ NULL    │        NULL │ NULL                              │ NULL                                                                                                     │ NULL    │ NULL      │ NULL    │ NULL       │ NULL              │ NULL                 │ NULL       │ NULL                   │  NULL │   NULL │ NULL                                                                                                                                                       │ NULL        │ NULL    │ NULL                             │\n",
       "│    ·                │          ·                             │  ·                    │  ·                  │  ·          │  ·                        │  ·                        │  ·              │  ·           │  ·                                                                                          │  ·                │        ·  │ ·       │        ·  │  ·           │  ·        │     ·  │  ·       │     ·  │        ·  │  ·                              │  ·        │  ·           │ ·       │         ·  │        ·  │  ·          │  ·                                           │  ·       │  ·       │  ·      │  ·             │  ·      │          ·  │  ·                                │  ·                                                                                                       │  ·      │  ·        │  ·      │  ·         │  ·                │  ·                   │  ·         │  ·                     │    ·  │     ·  │  ·                                                                                                                                                         │  ·          │  ·      │  ·                               │\n",
       "│    ·                │          ·                             │  ·                    │  ·                  │  ·          │  ·                        │  ·                        │  ·              │  ·           │  ·                                                                                          │  ·                │        ·  │ ·       │        ·  │  ·           │  ·        │     ·  │  ·       │     ·  │        ·  │  ·                              │  ·        │  ·           │ ·       │         ·  │        ·  │  ·          │  ·                                           │  ·       │  ·       │  ·      │  ·             │  ·      │          ·  │  ·                                │  ·                                                                                                       │  ·      │  ·        │  ·      │  ·         │  ·                │  ·                   │  ·         │  ·                     │    ·  │     ·  │  ·                                                                                                                                                         │  ·          │  ·      │  ·                               │\n",
       "│    ·                │          ·                             │  ·                    │  ·                  │  ·          │  ·                        │  ·                        │  ·              │  ·           │  ·                                                                                          │  ·                │        ·  │ ·       │        ·  │  ·           │  ·        │     ·  │  ·       │     ·  │        ·  │  ·                              │  ·        │  ·           │ ·       │         ·  │        ·  │  ·          │  ·                                           │  ·       │  ·       │  ·      │  ·             │  ·      │          ·  │  ·                                │  ·                                                                                                       │  ·      │  ·        │  ·      │  ·         │  ·                │  ·                   │  ·         │  ·                     │    ·  │     ·  │  ·                                                                                                                                                         │  ·          │  ·      │  ·                               │\n",
       "│ Eixample            │ La Dreta de l'Eixample                 │ NULL                  │ NULL                │ NULL        │ NULL                      │ NULL                      │ NULL            │ 88847481     │ https://img3.idealista.com/blur/WEB_LISTING/0/id.pro.es.image.master/bb/43/66/756900047.jpg │ vnt-granvia       │      19.0 │ 2       │ 1095000.0 │ flat         │ sale      │  305.0 │ false    │    5.0 │       4.0 │ Gran Via de les Corts Catalanes │ Barcelona │ Barcelona    │ es      │ 41.3886734 │ 2.1675985 │ false       │ https://www.idealista.com/inmueble/88847481/ │ 273      │ false    │ renew   │ false          │ true    │      3590.0 │ {typology=flat, subTypology=NULL} │ {'subtitle': La Dreta de l'Eixample, Barcelona, 'title': Piso en Gran Via de les Corts Catalanes}        │ true    │ false     │ false   │ false      │ false             │ NULL                 │ 2021-03-09 │ NULL                   │  NULL │   NULL │ NULL                                                                                                                                                       │ NULL        │ NULL    │ NULL                             │\n",
       "│ Eixample            │ La Dreta de l'Eixample                 │ NULL                  │ NULL                │ NULL        │ NULL                      │ NULL                      │ NULL            │ 83406672     │ https://img3.idealista.com/blur/WEB_LISTING/0/id.pro.es.image.master/79/e4/91/679052548.jpg │ FRSC 1008 A       │      22.0 │ 1       │ 1245000.0 │ flat         │ sale      │  166.0 │ false    │    3.0 │       4.0 │ Calle de Pau Claris             │ Barcelona │ Barcelona    │ es      │ 41.3903242 │   2.17094 │ false       │ https://www.idealista.com/inmueble/83406672/ │ 377      │ false    │ good    │ false          │ true    │      7500.0 │ {typology=flat, subTypology=NULL} │ {'subtitle': La Dreta de l'Eixample, Barcelona, 'title': Piso en Calle de Pau Claris}                    │ false   │ false     │ false   │ false      │ false             │ NULL                 │ 2021-03-09 │ NULL                   │  NULL │   NULL │ NULL                                                                                                                                                       │ NULL        │ NULL    │ NULL                             │\n",
       "│ Ciutat Vella        │ El Gòtic                               │ NULL                  │ NULL                │ NULL        │ NULL                      │ NULL                      │ NULL            │ 92097674     │ https://img3.idealista.com/blur/WEB_LISTING/0/id.pro.es.image.master/ab/ec/36/830875214.jpg │ NULL              │      17.0 │ 2       │  325000.0 │ flat         │ sale      │   65.0 │ true     │    2.0 │       1.0 │ Calle de la Canuda              │ Barcelona │ Barcelona    │ es      │ 41.3868002 │ 2.1712212 │ false       │ https://www.idealista.com/inmueble/92097674/ │ 104      │ false    │ good    │ false          │ true    │      5000.0 │ {typology=flat, subTypology=NULL} │ {'subtitle': El Gòtic, Barcelona, 'title': Piso en Calle de la Canuda}                                   │ true    │ false     │ false   │ false      │ false             │ NULL                 │ 2021-03-09 │ NULL                   │  NULL │   NULL │ NULL                                                                                                                                                       │ NULL        │ NULL    │ NULL                             │\n",
       "│ Ciutat Vella        │ El Gòtic                               │ NULL                  │ NULL                │ NULL        │ NULL                      │ NULL                      │ NULL            │ 92096650     │ https://img3.idealista.com/blur/WEB_LISTING/0/id.pro.es.image.master/07/84/06/830852092.jpg │ NULL              │      15.0 │ 2       │  250000.0 │ flat         │ sale      │   50.0 │ true     │    1.0 │       1.0 │ Calle de la Canuda              │ Barcelona │ Barcelona    │ es      │ 41.3834002 │ 2.1726212 │ false       │ https://www.idealista.com/inmueble/92096650/ │ 456      │ false    │ good    │ false          │ true    │      5000.0 │ {typology=flat, subTypology=NULL} │ {'subtitle': El Gòtic, Barcelona, 'title': Piso en Calle de la Canuda}                                   │ true    │ false     │ false   │ false      │ false             │ NULL                 │ 2021-03-09 │ NULL                   │  NULL │   NULL │ NULL                                                                                                                                                       │ NULL        │ NULL    │ NULL                             │\n",
       "│ Eixample            │ La Dreta de l'Eixample                 │ NULL                  │ NULL                │ NULL        │ NULL                      │ NULL                      │ NULL            │ 91584973     │ https://img3.idealista.com/blur/WEB_LISTING/0/id.pro.es.image.master/e5/7c/ce/834076013.jpg │ 46381             │      20.0 │ NULL    │  975000.0 │ flat         │ sale      │  140.0 │ false    │    4.0 │       3.0 │ barrio La Dreta de l'Eixample   │ Barcelona │ Barcelona    │ es      │ 41.3881097 │ 2.1725039 │ false       │ https://www.idealista.com/inmueble/91584973/ │ 242      │ false    │ good    │ false          │ true    │      6964.0 │ {typology=flat, subTypology=NULL} │ {'subtitle': La Dreta de l'Eixample, Barcelona, 'title': Piso}                                           │ true    │ false     │ false   │ false      │ false             │ NULL                 │ 2021-03-09 │ NULL                   │  NULL │   NULL │ NULL                                                                                                                                                       │ NULL        │ NULL    │ NULL                             │\n",
       "│ Ciutat Vella        │ El Gòtic                               │ NULL                  │ NULL                │ NULL        │ NULL                      │ NULL                      │ NULL            │ 90959331     │ https://img3.idealista.com/blur/WEB_LISTING/0/id.pro.es.image.master/5e/e4/0e/834082036.jpg │ 41779             │      19.0 │ NULL    │ 1115000.0 │ flat         │ sale      │  172.0 │ false    │    3.0 │       3.0 │ barrio El Gòtic                 │ Barcelona │ Barcelona    │ es      │ 41.3832827 │ 2.1712327 │ false       │ https://www.idealista.com/inmueble/90959331/ │ 425      │ false    │ good    │ false          │ true    │      6483.0 │ {typology=flat, subTypology=NULL} │ {'subtitle': El Gòtic, Barcelona, 'title': Piso}                                                         │ true    │ false     │ false   │ false      │ false             │ NULL                 │ 2021-03-09 │ NULL                   │  NULL │   NULL │ NULL                                                                                                                                                       │ NULL        │ NULL    │ NULL                             │\n",
       "│ Ciutat Vella        │ El Gòtic                               │ NULL                  │ NULL                │ NULL        │ NULL                      │ NULL                      │ NULL            │ 90959330     │ https://img3.idealista.com/blur/WEB_LISTING/0/id.pro.es.image.master/19/2a/78/834082016.jpg │ 41780             │      18.0 │ NULL    │  790000.0 │ flat         │ sale      │  106.0 │ false    │    2.0 │       2.0 │ barrio El Gòtic                 │ Barcelona │ Barcelona    │ es      │ 41.3841827 │ 2.1718327 │ false       │ https://www.idealista.com/inmueble/90959330/ │ 348      │ false    │ good    │ false          │ true    │      7453.0 │ {typology=flat, subTypology=NULL} │ {'subtitle': El Gòtic, Barcelona, 'title': Piso}                                                         │ true    │ false     │ false   │ false      │ false             │ NULL                 │ 2021-03-09 │ NULL                   │  NULL │   NULL │ NULL                                                                                                                                                       │ NULL        │ NULL    │ NULL                             │\n",
       "│ Ciutat Vella        │ El Gòtic                               │ NULL                  │ NULL                │ NULL        │ NULL                      │ NULL                      │ NULL            │ 88100268     │ https://img3.idealista.com/blur/WEB_LISTING/0/id.pro.es.image.master/d8/f9/43/777103221.jpg │ V-PM-RAMBLAS-3    │      17.0 │ 3       │ 1200000.0 │ flat         │ sale      │  165.0 │ true     │    3.0 │       3.0 │ Rambla La                       │ Barcelona │ Barcelona    │ es      │ 41.3842827 │ 2.1728327 │ false       │ https://www.idealista.com/inmueble/88100268/ │ 383      │ false    │ good    │ false          │ true    │      7273.0 │ {typology=flat, subTypology=NULL} │ {'subtitle': El Gòtic, Barcelona, 'title': Piso en Rambla La}                                            │ false   │ false     │ false   │ false      │ false             │ NULL                 │ 2021-03-09 │ NULL                   │  NULL │   NULL │ NULL                                                                                                                                                       │ NULL        │ NULL    │ NULL                             │\n",
       "│ Eixample            │ La Dreta de l'Eixample                 │ NULL                  │ NULL                │ NULL        │ NULL                      │ NULL                      │ NULL            │ 88060954     │ https://img3.idealista.com/blur/WEB_LISTING/0/id.pro.es.image.master/e9/b0/5f/765989781.jpg │ C143-XTM          │      43.0 │ NULL    │ 1375000.0 │ flat         │ sale      │  242.0 │ false    │    3.0 │       4.0 │ Rambla de Catalunya             │ Barcelona │ Barcelona    │ es      │ 41.3864893 │ 2.1669485 │ false       │ https://www.idealista.com/inmueble/88060954/ │ 260      │ false    │ good    │ false          │ true    │      5682.0 │ {typology=flat, subTypology=NULL} │ {'subtitle': La Dreta de l'Eixample, Barcelona, 'title': Piso en Rambla de Catalunya}                    │ false   │ false     │ false   │ false      │ false             │ NULL                 │ 2021-03-09 │ NULL                   │  NULL │   NULL │ NULL                                                                                                                                                       │ NULL        │ NULL    │ NULL                             │\n",
       "│ Ciutat Vella        │ Sant Pere - Santa Caterina i la Ribera │ NULL                  │ NULL                │ NULL        │ NULL                      │ NULL                      │ NULL            │ 87828178     │ https://img3.idealista.com/blur/WEB_LISTING/0/id.pro.es.image.master/b4/60/50/765990038.jpg │ C349-XCW          │      25.0 │ 6       │  360000.0 │ flat         │ sale      │   60.0 │ false    │    1.0 │       1.0 │ Calle de les Jonqueres          │ Barcelona │ Barcelona    │ es      │ 41.3877053 │  2.174875 │ false       │ https://www.idealista.com/inmueble/87828178/ │ 414      │ false    │ good    │ false          │ true    │      6000.0 │ {typology=flat, subTypology=NULL} │ {'subtitle': Sant Pere - Santa Caterina i la Ribera, Barcelona, 'title': Piso en Calle de les Jonqueres} │ false   │ false     │ false   │ false      │ false             │ NULL                 │ 2021-03-09 │ NULL                   │  NULL │   NULL │ NULL                                                                                                                                                       │ NULL        │ NULL    │ NULL                             │\n",
       "├─────────────────────┴────────────────────────────────────────┴───────────────────────┴─────────────────────┴─────────────┴───────────────────────────┴───────────────────────────┴─────────────────┴──────────────┴─────────────────────────────────────────────────────────────────────────────────────────────┴───────────────────┴───────────┴─────────┴───────────┴──────────────┴───────────┴────────┴──────────┴────────┴───────────┴─────────────────────────────────┴───────────┴──────────────┴─────────┴────────────┴───────────┴─────────────┴──────────────────────────────────────────────┴──────────┴──────────┴─────────┴────────────────┴─────────┴─────────────┴───────────────────────────────────┴──────────────────────────────────────────────────────────────────────────────────────────────────────────┴─────────┴───────────┴─────────┴────────────┴───────────────────┴──────────────────────┴────────────┴────────────────────────┴───────┴────────┴────────────────────────────────────────────────────────────────────────────────────────────────────────────────────────────────────────────────────────────┴─────────────┴─────────┴──────────────────────────────────┤\n",
       "│ ? rows (>9999 rows, 20 shown)                                                                                                                                                                                                                                                                                                                                                                                                                                                                                                                                                                                                                                                                                                                                                                                                                                                                                                                                                                                                                                                                                                                                                              50 columns │\n",
       "└───────────────────────────────────────────────────────────────────────────────────────────────────────────────────────────────────────────────────────────────────────────────────────────────────────────────────────────────────────────────────────────────────────────────────────────────────────────────────────────────────────────────────────────────────────────────────────────────────────────────────────────────────────────────────────────────────────────────────────────────────────────────────────────────────────────────────────────────────────────────────────────────────────────────────────────────────────────────────────────────────────────────────────────────────────────────────────────────────────────────────────────────────────────────────────────────────────────────────────────────────────────────────────────────────────────────────────────────────────────────────────────────────────────────────────────────────────────────────────────────────────────────────────────────────────────────────────────────────────────────────────────────────────────────────────────────────────────────────────────────────────────────────────────────────────┘"
      ]
     },
     "execution_count": 44,
     "metadata": {},
     "output_type": "execute_result"
    }
   ],
   "source": [
    "con.sql(\"SELECT * FROM idealista\")\n"
   ]
  },
  {
   "cell_type": "code",
   "execution_count": 47,
   "metadata": {},
   "outputs": [
    {
     "data": {
      "text/plain": [
       "┌──────────────┬──────────────────────────────────────────────┬───────────┬───────────────┬───────────┬───────────────┬───────────┐\n",
       "│   Distric    │                    Barris                    │ RDLpc (€) │ Index (RDLpc) │ RPLpc (€) │ Index (RPLpc) │ timestamp │\n",
       "│   varchar    │                   varchar                    │  double   │    varchar    │  double   │    varchar    │  varchar  │\n",
       "├──────────────┼──────────────────────────────────────────────┼───────────┼───────────────┼───────────┼───────────────┼───────────┤\n",
       "│ Ciutat Vella │ el Raval                                     │    11.178 │ 0.54          │    11.999 │ 0.51          │ 2020      │\n",
       "│ Ciutat Vella │ el Barri Gòtic                               │     15.99 │ 0.77          │    18.668 │ 0.80          │ 2020      │\n",
       "│ Ciutat Vella │ la Barceloneta                               │    13.246 │ 0.64          │    14.806 │ 0.64          │ 2020      │\n",
       "│ Ciutat Vella │ Sant Pere, Santa Caterina i la Ribera        │     16.77 │ 0.81          │    21.791 │ 0.85          │ 2020      │\n",
       "│ l'Eixample   │ el Fort Pienc                                │    21.045 │ 1.02          │    23.503 │ 1.01          │ 2020      │\n",
       "│ l'Eixample   │ la Sagrada Família                           │    17.116 │ 0.83          │    19.793 │ 0.85          │ 2020      │\n",
       "│ l'Eixample   │ la Dreta de l'Eixample                       │    27.942 │ 1.35          │    31.494 │ 1.36          │ 2020      │\n",
       "│ l'Eixample   │ l'Antiga Esquerra de l'Eixample              │    24.766 │ 1.20          │    29.032 │ 1.25          │ 2020      │\n",
       "│ l'Eixample   │ la Nova Esquerra de l'Eixample               │    23.394 │ 1.13          │    26.055 │ 1.12          │ 2020      │\n",
       "│ l'Eixample   │ Sant Antoni                                  │    22.927 │ 1.11          │     25.49 │ 1.10          │ 2020      │\n",
       "│     ·        │    ·                                         │       ·   │  ·            │       ·   │  ·            │  ·        │\n",
       "│     ·        │    ·                                         │       ·   │  ·            │       ·   │  ·            │  ·        │\n",
       "│     ·        │    ·                                         │       ·   │  ·            │       ·   │  ·            │  ·        │\n",
       "│ Sant Marti   │ el Clot                                      │    23.287 │ 1.13          │    27.536 │ 1.19          │ 2020      │\n",
       "│ Sant Marti   │ el Parc i la Llacuna del Poblenou            │    20.413 │ 0.99          │    25.242 │ 1.09          │ 2020      │\n",
       "│ Sant Marti   │ la Vila Olímpica del Poblenou                │    29.097 │ 1.41          │    33.589 │ 1.45          │ 2020      │\n",
       "│ Sant Marti   │ el Poblenou                                  │    22.005 │ 1.06          │     26.24 │ 1.13          │ 2020      │\n",
       "│ Sant Marti   │ Diagonal Mar i el Front Marítim del Poblenou │    37.346 │ 1.81          │    43.623 │ 1.88          │ 2020      │\n",
       "│ Sant Marti   │ el Besòs i el Maresme                        │     15.07 │ 0.73          │    17.723 │ 0.76          │ 2020      │\n",
       "│ Sant Marti   │ Provençals del Poblenou                      │    20.246 │ 0.98          │    24.688 │ 1.06          │ 2020      │\n",
       "│ Sant Marti   │ Sant Martí de Provençals                     │    17.346 │ 0.84          │    20.404 │ 0.88          │ 2020      │\n",
       "│ Sant Marti   │ la Verneda i la Pau                          │     15.07 │ 0.73          │    14.624 │ 0.63          │ 2020      │\n",
       "│ NULL         │ BCN                                          │    20.667 │ 1.00          │    23.215 │ 1.00          │ 2020      │\n",
       "├──────────────┴──────────────────────────────────────────────┴───────────┴───────────────┴───────────┴───────────────┴───────────┤\n",
       "│ 74 rows (20 shown)                                                                                                    7 columns │\n",
       "└─────────────────────────────────────────────────────────────────────────────────────────────────────────────────────────────────┘"
      ]
     },
     "execution_count": 47,
     "metadata": {},
     "output_type": "execute_result"
    }
   ],
   "source": [
    "con = duckdb.connect('../formatted_zone/formatted.db')\n",
    "\n",
    "con.sql(\"SELECT * FROM income_2020\")\n"
   ]
  },
  {
   "cell_type": "code",
   "execution_count": 48,
   "metadata": {},
   "outputs": [
    {
     "data": {
      "text/plain": [
       "┌─────────────────────────────┐\n",
       "│         table_name          │\n",
       "│           varchar           │\n",
       "├─────────────────────────────┤\n",
       "│ extended_idealista          │\n",
       "│ extended_opendatabcn_income │\n",
       "│ fotocasa_27_09_2024         │\n",
       "│ fotocasa_28_09_2024         │\n",
       "│ idealista_01_06_2020        │\n",
       "│ idealista_01_08_2020        │\n",
       "│ idealista_01_11_2020        │\n",
       "│ idealista_02_01_2020        │\n",
       "│ idealista_02_03_2020        │\n",
       "│ idealista_02_06_2020        │\n",
       "│          ·                  │\n",
       "│          ·                  │\n",
       "│          ·                  │\n",
       "│ idealista_29_07_2020        │\n",
       "│ idealista_29_08_2020        │\n",
       "│ idealista_30_01_2020        │\n",
       "│ idealista_30_08_2020        │\n",
       "│ idealista_30_10_2020        │\n",
       "│ idealista_31_05_2020        │\n",
       "│ idealista_31_10_2020        │\n",
       "│ idealista_31_12_2020        │\n",
       "│ income_2020                 │\n",
       "│ income_2021                 │\n",
       "├─────────────────────────────┤\n",
       "│     138 rows (20 shown)     │\n",
       "└─────────────────────────────┘"
      ]
     },
     "execution_count": 48,
     "metadata": {},
     "output_type": "execute_result"
    }
   ],
   "source": [
    "con.sql(\"SELECT table_name FROM information_schema.tables WHERE table_schema = 'main';\")"
   ]
  }
 ],
 "metadata": {
  "kernelspec": {
   "display_name": "base",
   "language": "python",
   "name": "python3"
  },
  "language_info": {
   "codemirror_mode": {
    "name": "ipython",
    "version": 3
   },
   "file_extension": ".py",
   "mimetype": "text/x-python",
   "name": "python",
   "nbconvert_exporter": "python",
   "pygments_lexer": "ipython3",
   "version": "3.11.7"
  }
 },
 "nbformat": 4,
 "nbformat_minor": 2
}
