{
 "cells": [
  {
   "cell_type": "code",
   "execution_count": null,
   "metadata": {},
   "outputs": [],
   "source": [
    "import duckdb\n",
    "import pandas as pd"
   ]
  },
  {
   "cell_type": "code",
   "execution_count": null,
   "metadata": {},
   "outputs": [],
   "source": [
    "def merge_idealista_tables(db_path):\n",
    "\n",
    "    conn = duckdb.connect(db_path)\n",
    "    \n",
    "    # Query to get all table names containing 'idealista'\n",
    "    query = \"SELECT table_name FROM information_schema.tables WHERE table_name ILIKE '%idealista%';\"\n",
    "    table_names = conn.execute(query).fetchall()\n",
    "\n",
    "    # Extract table names from query result\n",
    "    table_names = [name[0] for name in table_names]\n",
    "\n",
    "    # Read each table into a DataFrame and merge them\n",
    "    merged_df = pd.DataFrame()\n",
    "    for table_name in table_names:\n",
    "        df = conn.execute(f'SELECT * FROM {table_name}').fetchdf()\n",
    "        merged_df = pd.concat([merged_df, df], ignore_index=True)\n",
    "\n",
    "    # Close the connection\n",
    "    conn.close()\n",
    "    \n",
    "    return merged_df\n"
   ]
  },
  {
   "cell_type": "code",
   "execution_count": null,
   "metadata": {},
   "outputs": [],
   "source": [
    "def save_merged_table_to_new_db(merged_df, new_db_path, table_name='idealista'):\n",
    "    # Connect to the new DuckDB database\n",
    "    conn = duckdb.connect(new_db_path)\n",
    "    \n",
    "    # Save the merged DataFrame to the new database\n",
    "    conn.execute(f\"CREATE TABLE {table_name} AS SELECT * FROM merged_df\")\n",
    "    \n",
    "    # Close the connection\n",
    "    conn.close()"
   ]
  },
  {
   "cell_type": "code",
   "execution_count": null,
   "metadata": {},
   "outputs": [],
   "source": [
    "merged_dataframe = merge_idealista_tables('../formatted_zone/formatted.duckdb')\n",
    "save_merged_table_to_new_db(merged_dataframe, '../trusted_zone/trusted.duckdb')"
   ]
  }
 ],
 "metadata": {
  "kernelspec": {
   "display_name": "base",
   "language": "python",
   "name": "python3"
  },
  "language_info": {
   "codemirror_mode": {
    "name": "ipython",
    "version": 3
   },
   "file_extension": ".py",
   "mimetype": "text/x-python",
   "name": "python",
   "nbconvert_exporter": "python",
   "pygments_lexer": "ipython3",
   "version": "3.11.7"
  }
 },
 "nbformat": 4,
 "nbformat_minor": 2
}
