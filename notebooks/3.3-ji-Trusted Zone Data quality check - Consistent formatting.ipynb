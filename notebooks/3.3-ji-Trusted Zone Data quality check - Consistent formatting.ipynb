{
 "cells": [
  {
   "cell_type": "code",
   "execution_count": 17,
   "metadata": {},
   "outputs": [],
   "source": [
    "import duckdb\n",
    "import pandas as pd\n",
    "import numpy as np"
   ]
  },
  {
   "cell_type": "code",
   "execution_count": 18,
   "metadata": {},
   "outputs": [],
   "source": [
    "def consistent_formatting_idealista(df):\n",
    "    # Standardize null values\n",
    "    df = df.replace('NULL', np.nan)\n",
    "    \n",
    "    # Normalize data types\n",
    "    df['propertyCode'] = df['propertyCode'].astype(str)\n",
    "    df['price'] = df['price'].astype(float)\n",
    "    df['size'] = df['size'].astype(float)\n",
    "    df['exterior'] = df['exterior'].astype(bool)\n",
    "    df['rooms'] = pd.to_numeric(df['rooms'], errors='coerce').fillna(0).astype(int)\n",
    "    df['bathrooms'] = pd.to_numeric(df['bathrooms'], errors='coerce').fillna(0).astype(int)\n",
    "    df['latitude'] = df['latitude'].astype(float)\n",
    "    df['longitude'] = df['longitude'].astype(float)\n",
    "    df['hasLift'] = df['hasLift'].astype(bool)\n",
    "    df['priceByArea'] = df['priceByArea'].astype(float)\n",
    "    df['newDevelopment'] = df['newDevelopment'].astype(bool)\n",
    "    \n",
    "    # Standardize categorical columns by stripping leading/trailing spaces and making them lowercase\n",
    "    categorical_columns = ['propertyType', 'operation', 'address', 'province', 'municipality', \n",
    "                           'district', 'country', 'neighborhood', 'status', 'floor']\n",
    "    for col in categorical_columns:\n",
    "        df[col] = df[col].astype(str).str.strip().str.lower()\n",
    "\n",
    "    # Handle missing categorical values by replacing them with 'unknown'\n",
    "    df[categorical_columns] = df[categorical_columns].fillna('unknown')\n",
    "    \n",
    "    # Standardize floor values (e.g., convert 'entresuelo', 'bajo' to standard text)\n",
    "    df['floor'] = df['floor'].replace({\n",
    "        'bj': 'bajo',\n",
    "        'ss': 'sotano',\n",
    "        'en': 'entresuelo'\n",
    "    })\n",
    "    \n",
    "    # Format 'timestamp' column to datetime\n",
    "    df['timestamp'] = pd.to_datetime(df['timestamp'], errors='coerce')\n",
    "    \n",
    "    return df\n"
   ]
  },
  {
   "cell_type": "code",
   "execution_count": 19,
   "metadata": {},
   "outputs": [],
   "source": [
    "def consistent_formatting_idealista_script(db_path, table_name='idealista'):\n",
    "\n",
    "    try:\n",
    "        # Connect to the DuckDB database\n",
    "        con = duckdb.connect(db_path)\n",
    "        print(f\"Connected to DuckDB database at '{db_path}'.\")\n",
    "        \n",
    "        # Check if the table exists\n",
    "        tables = con.execute(\"SELECT table_name FROM information_schema.tables WHERE table_schema = 'main';\").fetchall()\n",
    "        existing_tables = [table[0] for table in tables]\n",
    "        \n",
    "        if table_name not in existing_tables:\n",
    "            print(f\"Error: Table '{table_name}' does not exist in the database.\")\n",
    "            con.close()\n",
    "            return\n",
    "        \n",
    "        print(f\"Processing table: '{table_name}'.\")\n",
    "        \n",
    "        # Read the table into a DataFrame and Apply consistent formatting\n",
    "        df = con.execute(f\"SELECT * FROM {table_name}\").fetchdf() \n",
    "        formatted_df = consistent_formatting_idealista(df)\n",
    "        \n",
    "        # Overwrite the original table with the formatted DataFrame\n",
    "        con.execute(f\"DROP TABLE IF EXISTS {table_name}\")\n",
    "        con.register('formatted_df', formatted_df)\n",
    "        con.execute(f\"CREATE TABLE {table_name} AS SELECT * FROM formatted_df\")\n",
    "        print(f\"Table '{table_name}' has been overwritten with formatted data.\")\n",
    "        \n",
    "        # Close the connection\n",
    "        con.close()\n",
    "    \n",
    "    except Exception as e:\n",
    "        print(f\"An unexpected error occurred: {e}\")"
   ]
  },
  {
   "cell_type": "code",
   "execution_count": 20,
   "metadata": {},
   "outputs": [
    {
     "name": "stdout",
     "output_type": "stream",
     "text": [
      "Connected to DuckDB database at '../trusted_zone/trusted.db'.\n",
      "Processing table: 'idealista'.\n",
      "Table 'idealista' has been overwritten with formatted data.\n"
     ]
    }
   ],
   "source": [
    "consistent_formatting_idealista_script('../trusted_zone/trusted.db', table_name='idealista')"
   ]
  },
  {
   "cell_type": "code",
   "execution_count": 23,
   "metadata": {},
   "outputs": [],
   "source": [
    "def consistent_formatting_income(df):\n",
    "    # Standardize null values\n",
    "    df = df.replace('NULL', np.nan)\n",
    "    \n",
    "    df.rename(columns={\n",
    "        'Distric': 'district',\n",
    "        'Barris': 'neighborhood',\n",
    "        'RDLpc (€)': 'rdlpc_eur',\n",
    "        'Index (RDLpc)': 'index_rdlpc',\n",
    "        'RPLpc (€)': 'rplpc_eur',\n",
    "        'Index (RPLpc)': 'index_rplpc',\n",
    "        'timestamp': 'year'\n",
    "    }, inplace=True)\n",
    "\n",
    "    # Normalize data types\n",
    "    df['rdlpc_eur'] = df['rdlpc_eur'].astype(float)\n",
    "    df['rplpc_eur'] = df['rplpc_eur'].astype(float)\n",
    "    df['index_rdlpc'] = df['index_rdlpc'].astype(float)\n",
    "    df['index_rplpc'] = df['index_rplpc'].astype(float)\n",
    "    \n",
    "    # Standardize categorical columns by stripping leading/trailing spaces and making them lowercase\n",
    "    categorical_columns = ['district', 'neighborhood']\n",
    "    for col in categorical_columns:\n",
    "        df[col] = df[col].astype(str).str.strip().str.lower()\n",
    "\n",
    "    # Handle missing categorical values by replacing them with 'unknown'\n",
    "    df[categorical_columns] = df[categorical_columns].fillna('unknown')\n",
    "    \n",
    "    # Format 'year' column to datetime\n",
    "    df['year'] = pd.to_datetime(df['year'], format='%Y', errors='coerce')\n",
    "    \n",
    "    return df\n",
    "\n",
    "def consistent_formatting_income_script(db_path, table_name='income'):\n",
    "\n",
    "    try:\n",
    "        # Connect to the DuckDB database\n",
    "        con = duckdb.connect(db_path)\n",
    "        print(f\"Connected to DuckDB database at '{db_path}'.\")\n",
    "        \n",
    "        # Check if the table exists\n",
    "        tables = con.execute(\"SELECT table_name FROM information_schema.tables WHERE table_schema = 'main';\").fetchall()\n",
    "        existing_tables = [table[0] for table in tables]\n",
    "        \n",
    "        if table_name not in existing_tables:\n",
    "            print(f\"Error: Table '{table_name}' does not exist in the database.\")\n",
    "            con.close()\n",
    "            return\n",
    "        \n",
    "        print(f\"Processing table: '{table_name}'.\")\n",
    "        \n",
    "        # Read the table into a DataFrame and Apply consistent formatting\n",
    "        df = con.execute(f\"SELECT * FROM {table_name}\").fetchdf() \n",
    "        formatted_df = consistent_formatting_income(df)\n",
    "        \n",
    "        # Overwrite the original table with the formatted DataFrame\n",
    "        con.execute(f\"DROP TABLE IF EXISTS {table_name}\")\n",
    "        con.register('formatted_df', formatted_df)\n",
    "        con.execute(f\"CREATE TABLE {table_name} AS SELECT * FROM formatted_df\")\n",
    "        print(f\"Table '{table_name}' has been overwritten with formatted data.\")\n",
    "        \n",
    "        # Close the connection\n",
    "        con.close()\n",
    "    \n",
    "    except Exception as e:\n",
    "        print(f\"An unexpected error occurred: {e}\")\n"
   ]
  },
  {
   "cell_type": "code",
   "execution_count": 24,
   "metadata": {},
   "outputs": [
    {
     "name": "stdout",
     "output_type": "stream",
     "text": [
      "Connected to DuckDB database at '../trusted_zone/trusted.db'.\n",
      "Processing table: 'income'.\n",
      "Table 'income' has been overwritten with formatted data.\n"
     ]
    }
   ],
   "source": [
    "consistent_formatting_income_script('../trusted_zone/trusted.db', 'income')"
   ]
  }
 ],
 "metadata": {
  "kernelspec": {
   "display_name": "base",
   "language": "python",
   "name": "python3"
  },
  "language_info": {
   "codemirror_mode": {
    "name": "ipython",
    "version": 3
   },
   "file_extension": ".py",
   "mimetype": "text/x-python",
   "name": "python",
   "nbconvert_exporter": "python",
   "pygments_lexer": "ipython3",
   "version": "3.11.7"
  }
 },
 "nbformat": 4,
 "nbformat_minor": 2
}
