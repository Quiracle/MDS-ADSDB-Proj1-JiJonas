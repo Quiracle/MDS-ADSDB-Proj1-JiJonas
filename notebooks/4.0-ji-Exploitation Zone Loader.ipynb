{
 "cells": [
  {
   "cell_type": "code",
   "execution_count": 40,
   "metadata": {},
   "outputs": [],
   "source": [
    "import duckdb\n",
    "import os"
   ]
  },
  {
   "cell_type": "code",
   "execution_count": 41,
   "metadata": {},
   "outputs": [],
   "source": [
    "trusted_db_path = '../trusted_zone/trusted.db'\n",
    "\n",
    "exploitation_folder = '../exploitation_zone/'\n",
    "\n",
    "os.makedirs(exploitation_folder, exist_ok=True)\n",
    "\n",
    "exploitation_db_path = os.path.join(exploitation_folder, 'exploitation.db')"
   ]
  },
  {
   "cell_type": "code",
   "execution_count": 43,
   "metadata": {},
   "outputs": [],
   "source": [
    "# Connect to the existing trusted.db\n",
    "trusted_con = duckdb.connect(database=trusted_db_path)\n",
    "\n",
    "# Connect to the new exploitation.db\n",
    "exploitation_con = duckdb.connect(database=exploitation_db_path)"
   ]
  },
  {
   "cell_type": "code",
   "execution_count": 100,
   "metadata": {},
   "outputs": [
    {
     "data": {
      "text/plain": [
       "<duckdb.duckdb.DuckDBPyConnection at 0x2951f3cea70>"
      ]
     },
     "execution_count": 100,
     "metadata": {},
     "output_type": "execute_result"
    }
   ],
   "source": [
    "exploitation_con.execute(\"\"\"\n",
    "CREATE OR REPLACE TABLE neighborhood (\n",
    "    district VARCHAR,\n",
    "    neighborhood VARCHAR,\n",
    "    PRIMARY KEY (district, neighborhood)\n",
    ");\n",
    "\"\"\")\n",
    "\n",
    "NEIGHBORHOOD_data = trusted_con.execute(\"\"\"\n",
    "SELECT DISTINCT district, neighborhood\n",
    "FROM income\n",
    "\"\"\").fetchall()\n",
    "\n",
    "exploitation_con.executemany(\"\"\"\n",
    "INSERT INTO neighborhood (district, neighborhood) VALUES (?, ?)\n",
    "ON CONFLICT DO NOTHING\n",
    "\"\"\", NEIGHBORHOOD_data)"
   ]
  },
  {
   "cell_type": "code",
   "execution_count": 101,
   "metadata": {},
   "outputs": [
    {
     "data": {
      "text/plain": [
       "<duckdb.duckdb.DuckDBPyConnection at 0x2951f3cea70>"
      ]
     },
     "execution_count": 101,
     "metadata": {},
     "output_type": "execute_result"
    }
   ],
   "source": [
    "exploitation_con.execute(\"\"\"\n",
    "CREATE OR REPLACE TABLE income (\n",
    "    neighborhood VARCHAR,\n",
    "    rdlpc_eur DOUBLE,\n",
    "    year VARCHAR,\n",
    "    PRIMARY KEY (neighborhood, year)\n",
    ");\n",
    "\"\"\")\n",
    "\n",
    "income_data = trusted_con.execute(\"\"\"\n",
    "SELECT neighborhood, rdlpc_eur, year\n",
    "FROM income\n",
    "\"\"\").fetchall()\n",
    "\n",
    "exploitation_con.executemany(\"\"\"\n",
    "INSERT INTO income (neighborhood, rdlpc_eur, year) VALUES (?, ?, ?)\n",
    "ON CONFLICT DO NOTHING\n",
    "\"\"\", income_data)"
   ]
  },
  {
   "cell_type": "code",
   "execution_count": 103,
   "metadata": {},
   "outputs": [
    {
     "data": {
      "text/plain": [
       "<duckdb.duckdb.DuckDBPyConnection at 0x2951f3cea70>"
      ]
     },
     "execution_count": 103,
     "metadata": {},
     "output_type": "execute_result"
    }
   ],
   "source": [
    "exploitation_con.execute(\"\"\"\n",
    "CREATE OR REPLACE TABLE idealista (\n",
    "    propertyCode VARCHAR,\n",
    "    price DOUBLE,\n",
    "    neighborhood VARCHAR,\n",
    "    timestamp TIMESTAMP_NS,\n",
    "    PRIMARY KEY (propertyCode, timestamp)\n",
    ");\n",
    "\"\"\")\n",
    "\n",
    "idealista_data = trusted_con.execute(\"\"\"\n",
    "SELECT propertyCode, price, neighborhood, timestamp\n",
    "FROM idealista\n",
    "\"\"\").fetchall()\n",
    "\n",
    "exploitation_con.executemany(\"\"\"\n",
    "INSERT INTO idealista (propertyCode, price, neighborhood, timestamp) VALUES (?, ?, ?, ?)\n",
    "\"\"\", idealista_data)"
   ]
  },
  {
   "cell_type": "code",
   "execution_count": 106,
   "metadata": {},
   "outputs": [
    {
     "data": {
      "text/plain": [
       "<duckdb.duckdb.DuckDBPyConnection at 0x2951f3cea70>"
      ]
     },
     "execution_count": 106,
     "metadata": {},
     "output_type": "execute_result"
    }
   ],
   "source": [
    "exploitation_con.execute(\"\"\"\n",
    "CREATE OR REPLACE TABLE house (\n",
    "    propertyCode VARCHAR,\n",
    "    timestamp TIMESTAMP_NS,\n",
    "    floor VARCHAR,\n",
    "    propertyType VARCHAR,\n",
    "    size DOUBLE,\n",
    "    status VARCHAR,\n",
    "    newDevelopment BOOLEAN,\n",
    "    hasLift BOOLEAN,\n",
    "    rooms INT,\n",
    "    bathrooms INT,\n",
    "    exterior BOOLEAN,\n",
    "    latitude DOUBLE,\n",
    "    longitude DOUBLE,\n",
    "    address VARCHAR,\n",
    "    province VARCHAR,\n",
    "    municipality VARCHAR,\n",
    "    district VARCHAR,\n",
    "    country VARCHAR,\n",
    "    neighborhood VARCHAR,\n",
    "    priceByArea DOUBLE,\n",
    "    PRIMARY KEY (propertyCode, timestamp),\n",
    "    FOREIGN KEY (propertyCode, timestamp) REFERENCES idealista(propertyCode, timestamp)\n",
    ");\n",
    "\"\"\")\n",
    "\n",
    "# Populate 'house' table\n",
    "house_data = trusted_con.execute(\"\"\"\n",
    "SELECT \n",
    "    propertyCode,\n",
    "    floor,\n",
    "    propertyType,\n",
    "    size,\n",
    "    status,\n",
    "    newDevelopment,\n",
    "    hasLift,\n",
    "    rooms,\n",
    "    bathrooms,\n",
    "    exterior,\n",
    "    latitude,\n",
    "    longitude,\n",
    "    address,\n",
    "    province,\n",
    "    municipality,\n",
    "    district,\n",
    "    country,\n",
    "    neighborhood,\n",
    "    priceByArea,\n",
    "    timestamp\n",
    "FROM idealista\n",
    "\"\"\").fetchall()\n",
    "\n",
    "exploitation_con.executemany(\"\"\"\n",
    "INSERT INTO house (\n",
    "    propertyCode, floor, propertyType, size, status, newDevelopment, hasLift, rooms, \n",
    "    bathrooms, exterior, latitude, longitude, address, province, municipality, \n",
    "    district, country, neighborhood, priceByArea, timestamp\n",
    ") VALUES (?, ?, ?, ?, ?, ?, ?, ?, ?, ?, ?, ?, ?, ?, ?, ?, ?, ?, ?, ?)\n",
    "\"\"\", house_data)"
   ]
  },
  {
   "cell_type": "code",
   "execution_count": 109,
   "metadata": {},
   "outputs": [],
   "source": [
    "# Connect to the existing trusted.db\n",
    "trusted_con.close()\n",
    "\n",
    "# Connect to the new exploitation.db\n",
    "exploitation_con.close()"
   ]
  }
 ],
 "metadata": {
  "kernelspec": {
   "display_name": "base",
   "language": "python",
   "name": "python3"
  },
  "language_info": {
   "codemirror_mode": {
    "name": "ipython",
    "version": 3
   },
   "file_extension": ".py",
   "mimetype": "text/x-python",
   "name": "python",
   "nbconvert_exporter": "python",
   "pygments_lexer": "ipython3",
   "version": "3.11.7"
  }
 },
 "nbformat": 4,
 "nbformat_minor": 2
}
